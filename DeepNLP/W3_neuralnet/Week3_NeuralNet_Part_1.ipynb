{
 "cells": [
  {
   "cell_type": "markdown",
   "metadata": {
    "colab_type": "text",
    "id": "ZqJ-OSayD8Q8"
   },
   "source": [
    "# Chapter 03. 신경망 (part 1)\n",
    "## hfpsych lab workshop\n",
    "2019.7.19 Fri.\n",
    "Yoon Kyung Lee"
   ]
  },
  {
   "cell_type": "markdown",
   "metadata": {
    "colab_type": "text",
    "id": "N16rsl8JNi6O"
   },
   "source": [
    "### 3.1. 퍼셉트론 (복습)\n",
    " - note."
   ]
  },
  {
   "cell_type": "markdown",
   "metadata": {
    "colab_type": "text",
    "id": "rbqlBTcAN4ZV"
   },
   "source": [
    "### 3.1.3. 활성화 함수 \n",
    "\n",
    "퍼셉트론의 활성화 함수는 **계단함수**\n",
    "\n",
    "### 계단함수식\n",
    "\n",
    "\\begin{equation*}\n",
    "h(x) = 0 (x <=0)\n",
    "\\end{equation*}\n",
    "\n",
    "\\begin{equation*}\n",
    "          1 (x > 0)\n",
    "\\end{equation*}\n",
    "\n",
    "\n",
    "그림 3-4. 활성화 함수의 처리 과정 (그림 참조)"
   ]
  },
  {
   "cell_type": "markdown",
   "metadata": {
    "colab_type": "text",
    "id": "Ca4illi-IExd"
   },
   "source": [
    "### 3.2.2. 계단 함수 구현하기"
   ]
  },
  {
   "cell_type": "code",
   "execution_count": 1,
   "metadata": {
    "colab": {},
    "colab_type": "code",
    "id": "N4xhX2K4IZY1"
   },
   "outputs": [],
   "source": [
    "def step_function(x):\n",
    "  if x > 0: #입력이 0을 넘으면\n",
    "    return 1 #1을 출력\n",
    "  else: #아니면\n",
    "    return 0 #0을 출력"
   ]
  },
  {
   "cell_type": "markdown",
   "metadata": {
    "colab_type": "text",
    "id": "RFxLf4JwIocA"
   },
   "source": [
    "- 장점: 단순하고 쉽다\n",
    "- 단점 **실수(부동소수점)\"\"만 받는다. 즉, 넘파이 배열을 인수로 넣을 수 없다.**"
   ]
  },
  {
   "cell_type": "code",
   "execution_count": 2,
   "metadata": {
    "colab": {},
    "colab_type": "code",
    "id": "VVwcABdXJRkC"
   },
   "outputs": [],
   "source": [
    "import numpy as np"
   ]
  },
  {
   "cell_type": "code",
   "execution_count": 3,
   "metadata": {
    "colab": {},
    "colab_type": "code",
    "id": "RTNS5Lx9IwTx"
   },
   "outputs": [],
   "source": [
    "#넘파이 배열을 인자값으로 넣기\n",
    "\n",
    "def step_function(x):\n",
    "  y = x > 0\n",
    "  return y.astype(np.int)"
   ]
  },
  {
   "cell_type": "code",
   "execution_count": 4,
   "metadata": {
    "colab": {},
    "colab_type": "code",
    "id": "wG0iQlYHI5b5"
   },
   "outputs": [],
   "source": [
    "# 넘파이 배열 x을 준비, 그 넘파이 배열에 부등호 연산을 수행\n",
    "\n",
    "x = np.array([-1.0, 1.0, 2.0])"
   ]
  },
  {
   "cell_type": "code",
   "execution_count": 5,
   "metadata": {
    "colab": {
     "base_uri": "https://localhost:8080/",
     "height": 34
    },
    "colab_type": "code",
    "id": "sY7E406jJYwN",
    "outputId": "1c827a61-aa8e-4ec2-eb01-827a98ef14e0"
   },
   "outputs": [
    {
     "data": {
      "text/plain": [
       "array([-1.,  1.,  2.])"
      ]
     },
     "execution_count": 5,
     "metadata": {},
     "output_type": "execute_result"
    }
   ],
   "source": [
    "x"
   ]
  },
  {
   "cell_type": "code",
   "execution_count": 6,
   "metadata": {
    "colab": {},
    "colab_type": "code",
    "id": "v-wRsa7NJZVF"
   },
   "outputs": [],
   "source": [
    "y = x > 0"
   ]
  },
  {
   "cell_type": "code",
   "execution_count": 7,
   "metadata": {
    "colab": {
     "base_uri": "https://localhost:8080/",
     "height": 34
    },
    "colab_type": "code",
    "id": "1Q0CTriXJatd",
    "outputId": "7a4097f7-1ffa-495f-8dd4-933413461666"
   },
   "outputs": [
    {
     "data": {
      "text/plain": [
       "array([False,  True,  True])"
      ]
     },
     "execution_count": 7,
     "metadata": {},
     "output_type": "execute_result"
    }
   ],
   "source": [
    "y #bool 배열인 것을 확인할 수 있다. "
   ]
  },
  {
   "cell_type": "markdown",
   "metadata": {
    "colab_type": "text",
    "id": "jxfjMnkvJbRV"
   },
   "source": [
    "우리가 원하는 계단 함수는 0이나 1의 'int'형을 출력하는 함수이다. 따라서 배열 y의 원소를 bool에서 int형으로 바꿔준다. "
   ]
  },
  {
   "cell_type": "code",
   "execution_count": 8,
   "metadata": {
    "colab": {},
    "colab_type": "code",
    "id": "HZ7o6G2BJld9"
   },
   "outputs": [],
   "source": [
    "y = y.astype(np.int)"
   ]
  },
  {
   "cell_type": "code",
   "execution_count": 9,
   "metadata": {
    "colab": {
     "base_uri": "https://localhost:8080/",
     "height": 34
    },
    "colab_type": "code",
    "id": "LJJXM0VjJnDk",
    "outputId": "2d15e651-5263-4406-8154-38f20dfc6717"
   },
   "outputs": [
    {
     "data": {
      "text/plain": [
       "array([0, 1, 1])"
      ]
     },
     "execution_count": 9,
     "metadata": {},
     "output_type": "execute_result"
    }
   ],
   "source": [
    "y"
   ]
  },
  {
   "cell_type": "markdown",
   "metadata": {
    "colab_type": "text",
    "id": "VsBpU4e5Jnce"
   },
   "source": [
    "## 3.2.3. 계단함수 그래프"
   ]
  },
  {
   "cell_type": "code",
   "execution_count": 10,
   "metadata": {
    "colab": {},
    "colab_type": "code",
    "id": "sHZ_zRSgJqTI"
   },
   "outputs": [],
   "source": [
    "import matplotlib.pylab as plt"
   ]
  },
  {
   "cell_type": "code",
   "execution_count": 11,
   "metadata": {
    "colab": {
     "base_uri": "https://localhost:8080/",
     "height": 269
    },
    "colab_type": "code",
    "id": "av1TWJ2fJzOY",
    "outputId": "7525abf5-d84b-468f-ec8a-d8bf553b55e7"
   },
   "outputs": [
    {
     "data": {
      "image/png": "[encoded data removed]",
      "text/plain": [
       "<Figure size 432x288 with 1 Axes>"
      ]
     },
     "metadata": {
      "needs_background": "light"
     },
     "output_type": "display_data"
    }
   ],
   "source": [
    "#그림 3-6. 계단함수의 그래프 \n",
    "\n",
    "def step_function(x):\n",
    "  return np.array(x > 0, dtype = np.int)\n",
    "\n",
    "x = np.arange(-5.0, 5.0, 0.1)\n",
    "\n",
    "y = step_function(x)\n",
    "\n",
    "plt.plot(x, y)\n",
    "plt.ylim(-0.1, 1.1) #y축의 범위 지정\n",
    "plt.show()"
   ]
  },
  {
   "cell_type": "markdown",
   "metadata": {
    "colab_type": "text",
    "id": "ZvnwWsZhJ8jS"
   },
   "source": [
    "위에서 보듯이 계단함수는 0을 경계로 출력이 0에서 1 (또는 1에서 0)으로 바뀐다. "
   ]
  },
  {
   "cell_type": "markdown",
   "metadata": {
    "colab_type": "text",
    "id": "01AGZQeUKLTA"
   },
   "source": [
    "## 3.2.4. 시그모이드 함수 구하기 \n"
   ]
  },
  {
   "cell_type": "markdown",
   "metadata": {
    "colab_type": "text",
    "id": "IKouEdsIOofX"
   },
   "source": [
    "### 시그모이드 함수식\n",
    "\n",
    "\\begin{equation*}\n",
    "h(x) = \\frac{1}{1 + exp(-x)} \n",
    "\\end{equation*}"
   ]
  },
  {
   "cell_type": "code",
   "execution_count": 12,
   "metadata": {
    "colab": {},
    "colab_type": "code",
    "id": "E7Y_IMlhKPB-"
   },
   "outputs": [],
   "source": [
    "def sigmoid(x):\n",
    "  return 1/ (1 + np.exp(-x))"
   ]
  },
  {
   "cell_type": "code",
   "execution_count": 13,
   "metadata": {
    "colab": {},
    "colab_type": "code",
    "id": "GIHCPB8yKTHX"
   },
   "outputs": [],
   "source": [
    "x = np.array([-1.0, 1.0, 2.0]) "
   ]
  },
  {
   "cell_type": "code",
   "execution_count": 14,
   "metadata": {
    "colab": {
     "base_uri": "https://localhost:8080/",
     "height": 34
    },
    "colab_type": "code",
    "id": "UyQo0sIfKbBd",
    "outputId": "ba21cf39-1875-44fe-bf22-46576f63c5da"
   },
   "outputs": [
    {
     "data": {
      "text/plain": [
       "array([0.26894142, 0.73105858, 0.88079708])"
      ]
     },
     "execution_count": 14,
     "metadata": {},
     "output_type": "execute_result"
    }
   ],
   "source": [
    "sigmoid(x)"
   ]
  },
  {
   "cell_type": "markdown",
   "metadata": {
    "colab_type": "text",
    "id": "7WY-fVMPKcWG"
   },
   "source": [
    "numpy의 브로드캐스트 기능 덕에 넘파이 배열과 스칼라 값의 연산을 넘파이 배열의 원소 각각과 스칼라 값의 연산으로 바꿔 수행해줌\n",
    "\n",
    "다음 예에서 복습 겸 다시 살펴보자"
   ]
  },
  {
   "cell_type": "code",
   "execution_count": 15,
   "metadata": {
    "colab": {},
    "colab_type": "code",
    "id": "iICKlCRRKrAo"
   },
   "outputs": [],
   "source": [
    "t = np.array([1.0, 2.0, 3.0])"
   ]
  },
  {
   "cell_type": "code",
   "execution_count": 16,
   "metadata": {
    "colab": {
     "base_uri": "https://localhost:8080/",
     "height": 34
    },
    "colab_type": "code",
    "id": "TsmHkXRFKwiX",
    "outputId": "cf9ef327-c6f1-45e8-c76b-5913caf2b419"
   },
   "outputs": [
    {
     "data": {
      "text/plain": [
       "array([2., 3., 4.])"
      ]
     },
     "execution_count": 16,
     "metadata": {},
     "output_type": "execute_result"
    }
   ],
   "source": [
    "1.0 + t"
   ]
  },
  {
   "cell_type": "code",
   "execution_count": 17,
   "metadata": {
    "colab": {
     "base_uri": "https://localhost:8080/",
     "height": 34
    },
    "colab_type": "code",
    "id": "BkPp2zU2KxY4",
    "outputId": "a2e6a32d-b066-46fc-8385-7d14fff25b83"
   },
   "outputs": [
    {
     "data": {
      "text/plain": [
       "array([1.        , 0.5       , 0.33333333])"
      ]
     },
     "execution_count": 17,
     "metadata": {},
     "output_type": "execute_result"
    }
   ],
   "source": [
    "1.0/t"
   ]
  },
  {
   "cell_type": "markdown",
   "metadata": {
    "colab_type": "text",
    "id": "pyid6ab2Kyhh"
   },
   "source": [
    "### 시그모이드 함수 시각화"
   ]
  },
  {
   "cell_type": "code",
   "execution_count": 18,
   "metadata": {
    "colab": {
     "base_uri": "https://localhost:8080/",
     "height": 269
    },
    "colab_type": "code",
    "id": "TICL_fKnK2vD",
    "outputId": "447ef9d1-b799-4c55-825e-956248cadd78"
   },
   "outputs": [
    {
     "data": {
      "image/png": "[encoded data removed]",
      "text/plain": [
       "<Figure size 432x288 with 1 Axes>"
      ]
     },
     "metadata": {
      "needs_background": "light"
     },
     "output_type": "display_data"
    }
   ],
   "source": [
    "x = np.arange(-5.0, 5.0, 0.1)\n",
    "\n",
    "y = sigmoid(x)\n",
    "\n",
    "plt.plot(x, y)\n",
    "plt.ylim(-0.1, 1.1) #y축 범위 지정\n",
    "plt.show()"
   ]
  },
  {
   "cell_type": "markdown",
   "metadata": {
    "colab_type": "text",
    "id": "SdHHdSXuK_v5"
   },
   "source": [
    "### 3.2.5. 시그모이드 함수 vs 계단 함수\n"
   ]
  },
  {
   "cell_type": "code",
   "execution_count": 19,
   "metadata": {
    "colab": {
     "base_uri": "https://localhost:8080/",
     "height": 283
    },
    "colab_type": "code",
    "id": "O7VyvEJBL5cq",
    "outputId": "03ba8a0b-26f4-485a-e40c-8471d4ad647f"
   },
   "outputs": [
    {
     "data": {
      "image/png": "[encoded data removed]",
      "text/plain": [
       "<Figure size 432x288 with 1 Axes>"
      ]
     },
     "metadata": {
      "needs_background": "light"
     },
     "output_type": "display_data"
    }
   ],
   "source": [
    "x = np.arange(-5.0, 5.0, 0.1)\n",
    "y1 = sigmoid(x)\n",
    "y2 = step_function(x)\n",
    "\n",
    "plt.plot(x, y1, label=\"sigmoid\")\n",
    "plt.plot(x, y2, linestyle=\"--\", label=\"step_function\")\n",
    "plt.xlabel(\"X\") # x축 이름\n",
    "plt.ylabel(\"y\") # y축 이름\n",
    "plt.ylim(-0.1, 1.1)\n",
    "plt.show()"
   ]
  },
  {
   "cell_type": "markdown",
   "metadata": {
    "colab_type": "text",
    "id": "dYUp2KJVL6u5"
   },
   "source": [
    "### 3.2.6. 차이점과 공통점 \n",
    "\n",
    "차이점 \n",
    "- \"매끄러움\" (=smoothness)\n",
    "- 계단 함수: 0 아니면 1의 값만 출력  vs 시그모이드: 실수 (연속적인 값)\n",
    "\n",
    "공통점\n",
    "- 아무리 작거나 커도 출력은 0~1사이. \n",
    "- 입력이 작을 때의 출력은 0에 가깝고 (혹은 0), 입력이 커지면 1에 가까워지는 (혹은 1) 구조 \n",
    "- 즉, 입력이 중요하면 큰 값을, 입력이 중요하지 않으면 작은 값을 출력"
   ]
  },
  {
   "cell_type": "markdown",
   "metadata": {
    "colab_type": "text",
    "id": "NS9BX1mfMZgG"
   },
   "source": [
    "### 3.2.7 비선형 함수"
   ]
  },
  {
   "cell_type": "markdown",
   "metadata": {
    "colab_type": "text",
    "id": "3ciO9_AkMe10"
   },
   "source": [
    "I. ReLU<sup>Rectified Linear Unit</sup>: 입력이 0을 넘으면 입력값 그대로 출력하고  0 이하면 0을 출력하는 함수"
   ]
  },
  {
   "cell_type": "markdown",
   "metadata": {
    "colab_type": "text",
    "id": "adcUIBacM7hq"
   },
   "source": [
    "### ReLU 함수식\n",
    "\n",
    "\\begin{equation*}\n",
    "h(x) = x ( x > 0) \n",
    "\\end{equation*}\n"
   ]
  },
  {
   "cell_type": "code",
   "execution_count": 22,
   "metadata": {
    "colab": {},
    "colab_type": "code",
    "id": "VHzk8e4yMvIC"
   },
   "outputs": [],
   "source": [
    "def relu(x):\n",
    "    return np.maximum(0, x) # 넘파이의 maximum함수를 사용하여 두 입력 중 큰 값을 선택해 반환한다"
   ]
  },
  {
   "cell_type": "code",
   "execution_count": 23,
   "metadata": {
    "colab": {
     "base_uri": "https://localhost:8080/",
     "height": 269
    },
    "colab_type": "code",
    "id": "sEVqmRvlM3SG",
    "outputId": "aaf869c9-0664-4d35-827b-efd02ff6383c"
   },
   "outputs": [
    {
     "data": {
      "image/png": "[encoded data removed]",
      "text/plain": [
       "<Figure size 432x288 with 1 Axes>"
      ]
     },
     "metadata": {
      "needs_background": "light"
     },
     "output_type": "display_data"
    }
   ],
   "source": [
    "x = np.arange(-5.0, 5.0, 0.1)\n",
    "y = relu(x)\n",
    "plt.plot(x, y)\n",
    "plt.ylim(-1.1, 5.1) # y축의 범위 지정\n",
    "plt.show()"
   ]
  },
  {
   "cell_type": "markdown",
   "metadata": {
    "colab_type": "text",
    "id": "c8CGYhv0NB68"
   },
   "source": []
  },
  {
   "cell_type": "code",
   "execution_count": null,
   "metadata": {
    "colab": {},
    "colab_type": "code",
    "id": "sr8f6cUwNL3L"
   },
   "outputs": [],
   "source": []
  }
 ],
 "metadata": {
  "colab": {
   "collapsed_sections": [],
   "name": "Week3_NeuralNet_Part_1.ipynb",
   "provenance": [],
   "version": "0.3.2"
  },
  "kernelspec": {
   "display_name": "Python 3",
   "language": "python",
   "name": "python3"
  },
  "language_info": {
   "codemirror_mode": {
    "name": "ipython",
    "version": 3
   },
   "file_extension": ".py",
   "mimetype": "text/x-python",
   "name": "python",
   "nbconvert_exporter": "python",
   "pygments_lexer": "ipython3",
   "version": "3.6.8"
  }
 },
 "nbformat": 4,
 "nbformat_minor": 1
}
