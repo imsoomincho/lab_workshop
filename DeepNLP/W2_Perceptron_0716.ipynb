{
  "nbformat": 4,
  "nbformat_minor": 0,
  "metadata": {
    "colab": {
      "name": "W2_Perceptron_0716.ipynb",
      "version": "0.3.2",
      "provenance": [],
      "collapsed_sections": [],
      "toc_visible": true
    },
    "kernelspec": {
      "name": "python3",
      "display_name": "Python 3"
    }
  },
  "cells": [
    {
      "cell_type": "markdown",
      "metadata": {
        "id": "VsnNO5KbpEMC",
        "colab_type": "text"
      },
      "source": [
        "## 2. Perceptron\n",
        "\n",
        "퍼셉트론 알고리즘.\n",
        "\n",
        "- 프랑크 로젠블라트 <sup> Frank Rosenblat </sup>가 1957년에 고안함.\n",
        "- 신경망(딥러닝)의 기원이 되는 알고리즘\n"
      ]
    },
    {
      "cell_type": "markdown",
      "metadata": {
        "id": "-g4C9Ydnpf7O",
        "colab_type": "text"
      },
      "source": [
        "### 2.1. 퍼셉트론이란?\n",
        "\n",
        "퍼셉트론(단순 퍼셉트론)은 다수의 신호를 입력으로 받아 하나의 신호를 출력한다. 여기서 말하는 **신호**란 전류나 강물처럼 **흐름**이 있는 것을 상상하면 된다. 전류가 전선을 타고 흐르는 전자를 내보내듯, 퍼셉트론 신호도 흐름을 만들고 정보를 앞으로 전달한다. 다만, 실제 전류와 달리 퍼셉트론 신호는 '흐른다/안 흐른다 (1이나 0)'의 두 가지 값을 가질 수 있다. 이 책에서는 1을 신호가 흐른다 0을 신호가 흐르지 않는다라는 의미로 통용. "
      ]
    },
    {
      "cell_type": "markdown",
      "metadata": {
        "id": "7jRbhqqRpqMS",
        "colab_type": "text"
      },
      "source": [
        "#### <그림 2-1> 입력이 2개인 퍼셉트론"
      ]
    },
    {
      "cell_type": "markdown",
      "metadata": {
        "id": "2e2H1bYVqP8l",
        "colab_type": "text"
      },
      "source": [
        "[그림 2-1]은 입력으로 2개의 신호를 받은 퍼셉트론의 예이다. x<sub>1</sub>과 x <sub>2</sub>는 입력 신호, y는 출력 신호, w<sub>1</sub>과 w<sub>2</sub>는 가중치를 뜻한다. (_w_ 는 weight의 머리글자임). \n",
        "\n",
        "그림의 원을 **뉴런** 또는 **노드**라고 부른다. 입력 신호가 뉴런에 보내질 때는 각각 고유한 **가중치**가 곱해진다(_w<sub>1</sub>x<sub>1</sub>,w<sub>2</sub>x<sub>2</sub>_). 뉴런에서 보내온 신호의 총합이 정해진 한계를 넘어설 때만 1을 출력한다 (이를 '뉴런이 활성화한다'라고 표현하기도 한다) 이 책에서는 그 한계를 **임계값**이라 하며, &Theta; 기호로 나타낸다. (**parameter라고도 부름)\n",
        "\n",
        "퍼셉트론의 동작과 원리는 이렇게 간단하다. 수식으로 나타내면 [식2.1`]이 된다. \n",
        "\n",
        "#### [식2.1.] 퍼셉트론 수식"
      ]
    },
    {
      "cell_type": "markdown",
      "metadata": {
        "id": "tFcVDGOnqWaR",
        "colab_type": "text"
      },
      "source": [
        "퍼셉트론은 복수의 입력 신호 각각에 고유한 가중치(_w_)를 부여한다. 가중치는 각 신호가 결과에 주는 영향력을 조절하는 요소로 작용한다. 즉, **가중치가 클수록 해당 신호가 그만큼 더 중요하다* 는 뜻이다. \n",
        "\n",
        "가중치는 전류에서 말하는 **저항**에 해당한다. 저항은 전류의 흐름을 억제하는 매개변수로, 저항이 늦을수록 큰 전류가 흐른다. 한편 퍼셉트론의 가중치는 그 값이 클수록 강한 신호를 흘려보낸다. 이처럼 서로 작용하는 방향은 반대지만, 신호가 얼마나 잘 (혹은 어렵게) 흐르는가를 통제한다는 점에서 저항과 가중치는 같은 기능을 한다."
      ]
    },
    {
      "cell_type": "markdown",
      "metadata": {
        "id": "xz_d2TgftDGB",
        "colab_type": "text"
      },
      "source": [
        "#### 2.2. 단순한 논리 회로\n",
        "\n",
        "#### 2.2.1. AND 게이트\n",
        "\n",
        "그럼 퍼셉트론을 활용한 간단한 문제를 살펴보자. 논리 회로를 알아보는 첫걸음으로 AND 게이트를 살펴봅시다. AND 게이트는 입력이 둘이고 출력은 하나이다. [그림 2-2]와 같은 입력 신호와 출력 신호의 대응 표를 **진리표** (Truth table)라고 한다. 이 그림은 AND 게이트의 진리표로, 두 입력이 모두 1일 때만 1을 출력하고, 그 외에는 0을 출력한다. \n",
        "\n",
        "#### <그림 2-2> AND 게이트의 진리표\n",
        "\n",
        "|x |x|y|\n",
        "|--|--|--|\n",
        "0 | 0 | 0 |\n",
        "1 | 0 | 0|\n",
        "0| 1| 0|\n",
        "1| 1| 1\n",
        "\n",
        "이 AND 게이트를 퍼셉트론으로 표현해보자. 이를 위해 할 일은 그림 <2-2>의 진리표대로 작동하도록 하는 **_w_<sub>1</sub>, w<sub>2</sub>,&Theta;** 의 값을 정하는 것이다. \n",
        "(그림 2-2를 만족하는 매개변수 조합은 무한히 많다. 가령 (w1,w2,&Theta;)가 (0.5, 0.5, 0.7)일 때, 또 (0.5, 0.5, 0.8)이나 (1.0, 1.0, 1.0)때 모두 AND 게이트의 조건을 만족한다. 매개변수를 이렇게 설정하면 x<sub>1</sub>와 x<sub>2</sub> 모두가 1일 때만 가중 신호의 총합이 주어진 임계값을 웃돌게 된다. \n",
        "\n"
      ]
    },
    {
      "cell_type": "markdown",
      "metadata": {
        "id": "4rM6_t3SuYsd",
        "colab_type": "text"
      },
      "source": [
        "#### 2.2.2. NAND 게이트와 OR 게이트\n",
        "\n",
        "이어서 NAND 게이트를 살펴봅시다. NAND는 Not AND를 의미하며, 그 동작은 AND 게이트의 출력을 뒤집은 것이 됩니다. 진리표로 나타내면 [그림 2-3] 처럼 x<sub>1</sub>과 x<sub>2</sub>가 모두 1일 때만 0을 출력하고, 그 외에는 1을 출력합니다. 그럼 매개변수 값들을 어떻게 조합하면 NAND 게이트가 만들어질까요?\n",
        "\n",
        "그림2-3. NAND 게이트의 진리표\n",
        "\n",
        "|x<sub>1</sub> |x<sub>2</sub>|y|\n",
        "|--|--|--|\n",
        "0|0|1|\n",
        "1|0|1\n",
        "0|1|1|\n",
        "1|1|0\n",
        "\n",
        "NAND 게이트를 표현하려면 예를 들어 (w<sub>1</sub>, w<sub>2</sub>,&Theta;) = (-0.5, 0.5, -0.7) 조합이 있습니다. (물론 다른 조합도 무한히 있음) 사실 AND 게이트를 구현하는 매개변수의 부호를 모두 반전하기만 하면 NAND 게이트가 된다. \n",
        "\n",
        "같은 흐름에서 [그림 2-4 ]의 OR 게이트도 생각해봅시다. \n",
        "\n",
        "OR 게이트는 입력 신호 중 하나 이상이 1이면 출력이 1이 되는 논리 회로임. 이  OR 게이트의 매개변수는 아래와 설정할 수 있다. \n",
        "\n",
        "그림 2-4. OR 게이트의 진리표 \n",
        "\n",
        "|x<sub>1</sub>|x<sub>2</sub>|y|\n",
        "|-|-|-|\n",
        "0|0|0|\n",
        "1|0|1|\n",
        "0|1|1|\n",
        "1|1|1|\n",
        "\n",
        "\n",
        "이상과 같이 퍼셉트론으로 AND, NAND, OR 논리 회로를 표현할 수 있음을 알았다. 여기서 중요한 점은 퍼셉트론의 구조는 AND, NAND, OR 게이트 모두에서 똑같다는 것이다. 세 가지 게이트에서 다른 것은 매개변수(가중치와 임계값)의 값뿐이다. 즉, 마치 팔색조 배우가 다양한 인물을 연기하는 것처럼 똑같은 구조의 퍼셉트론이 매개변수의 값만 적절히 조정하여 AND, NAND, OR로 변신하는 것이다. \n",
        "\n",
        "\n"
      ]
    },
    {
      "cell_type": "markdown",
      "metadata": {
        "id": "T_sXxH8Fw1pk",
        "colab_type": "text"
      },
      "source": [
        "### 2.3. 퍼셉트론 구현하기 \n"
      ]
    },
    {
      "cell_type": "markdown",
      "metadata": {
        "id": "Ls0eDaCvw4TN",
        "colab_type": "text"
      },
      "source": [
        "#### 2.3.1. 간단한 구현*이탤릭체 텍스트*"
      ]
    },
    {
      "cell_type": "markdown",
      "metadata": {
        "id": "9tnpnHVGw7Hv",
        "colab_type": "text"
      },
      "source": [
        "파이썬으로 구현한 논리 회로\n",
        "\n",
        "다음 x1와 x2를 인수로 받는 AND라는 함수를 살펴보자. "
      ]
    },
    {
      "cell_type": "code",
      "metadata": {
        "id": "9nPNMiImxHCP",
        "colab_type": "code",
        "colab": {}
      },
      "source": [
        "def AND(x1, x2):\n",
        "  w1, w2, theta = 0.5, 0.5, 0.7\n",
        "  tmp = x1*w1 + x2*w2\n",
        "  if tmp <= theta :\n",
        "    return 0\n",
        "  elif tmp > theta :\n",
        "    return 1"
      ],
      "execution_count": 0,
      "outputs": []
    },
    {
      "cell_type": "markdown",
      "metadata": {
        "id": "AI5n-CX8zKXV",
        "colab_type": "text"
      },
      "source": [
        "매개 변수 w1,w2,theta는 함수 안에서 초기화하고, 가중치를 곱한 입력의 총합이 임계값을 넘으면 1을 반환하고 그 외에는 0을 반환한다. 이 함수의 출력이 [그림 2-2]와 같은지 확인해보자"
      ]
    },
    {
      "cell_type": "code",
      "metadata": {
        "id": "jXVRNMPgzVuk",
        "colab_type": "code",
        "outputId": "ca38ad91-0c3c-499e-ef67-5a8e586c45c6",
        "colab": {
          "base_uri": "https://localhost:8080/",
          "height": 35
        }
      },
      "source": [
        "AND(0, 0) #0을 출력\n",
        "AND(1, 0) #0을 출력\n",
        "AND(0, 1) #0을 출력\n",
        "AND(1, 1) #0을 출력\n"
      ],
      "execution_count": 0,
      "outputs": [
        {
          "output_type": "execute_result",
          "data": {
            "text/plain": [
              "1"
            ]
          },
          "metadata": {
            "tags": []
          },
          "execution_count": 2
        }
      ]
    },
    {
      "cell_type": "markdown",
      "metadata": {
        "id": "pESfJBxe0mM6",
        "colab_type": "text"
      },
      "source": [
        "#### 2.3.2. 가중치와 편향 도입\n",
        "\n",
        "앞에서 구현한 AND 게이트는 직관적이고 알기 쉽지만, 앞으로를 생각해서 다른 방식으로 수정할 필요가 있다. 위에서 언급했던 [식 2.1]을 다시 살펴보자. \n",
        "\n",
        "식[2.1]의 &theta;를 -_b_ 로 치환하면 퍼셉트론의 동작이 [식 2.2] 처럼 됩니다. \n",
        "\n",
        "#### [식 2.,2] \n",
        "\n",
        "[식 2.1]과 [식 2.,2]는 기호 표기만 바뀌었을 뿐, 그 의미는 동일하다. 여기서 _b_ 를 **편향**<sup>bias</sup>이라 하며, _w_<sub>1</sub> 과 _w_<sub>2</sub>는 그대로 가중치<sup>weight</sup>입니다. [식 2.2] 관점에서 해석해보자면, 퍼셉트론은 입력 신호에 가중치를 곱한 값과 편향을 합하여, 그 값이 0 을 넘으면 1을 출력하고 그렇지 않으면 0을 출력합니다. \n",
        "\n",
        "넘파이를 사용해서 식[2.2] 방식으로 구현해보자. 여기서는 파이썬 인터프리터로 순서대로 결과를 확인하면서 진행해보자 \n"
      ]
    },
    {
      "cell_type": "code",
      "metadata": {
        "id": "Q1Zwx9HV1nhY",
        "colab_type": "code",
        "colab": {}
      },
      "source": [
        "#import numpy as np\n",
        "x = np.array( [0, 1]) #입력"
      ],
      "execution_count": 0,
      "outputs": []
    },
    {
      "cell_type": "code",
      "metadata": {
        "id": "EyQxnmZ61si4",
        "colab_type": "code",
        "colab": {}
      },
      "source": [
        "w = np.array([0.5, 0.5]) #가중치"
      ],
      "execution_count": 0,
      "outputs": []
    },
    {
      "cell_type": "code",
      "metadata": {
        "id": "xLeWt5p31y9H",
        "colab_type": "code",
        "colab": {}
      },
      "source": [
        "b = -0.7 #편향"
      ],
      "execution_count": 0,
      "outputs": []
    },
    {
      "cell_type": "code",
      "metadata": {
        "id": "2rTYUoN82RzZ",
        "colab_type": "code",
        "outputId": "e891a5e9-e67b-4a1f-e770-6cb3d5c3576b",
        "colab": {
          "base_uri": "https://localhost:8080/",
          "height": 35
        }
      },
      "source": [
        "w*x"
      ],
      "execution_count": 0,
      "outputs": [
        {
          "output_type": "execute_result",
          "data": {
            "text/plain": [
              "array([0. , 0.5])"
            ]
          },
          "metadata": {
            "tags": []
          },
          "execution_count": 7
        }
      ]
    },
    {
      "cell_type": "code",
      "metadata": {
        "id": "MUgLvktg2Sy_",
        "colab_type": "code",
        "outputId": "7dbee67b-76f6-4f8e-ef21-115deaf26263",
        "colab": {
          "base_uri": "https://localhost:8080/",
          "height": 35
        }
      },
      "source": [
        "np.sum(w*x)"
      ],
      "execution_count": 0,
      "outputs": [
        {
          "output_type": "execute_result",
          "data": {
            "text/plain": [
              "0.5"
            ]
          },
          "metadata": {
            "tags": []
          },
          "execution_count": 8
        }
      ]
    },
    {
      "cell_type": "code",
      "metadata": {
        "id": "28ceitz42UMP",
        "colab_type": "code",
        "outputId": "c7fac3a0-3ae7-4365-90cf-7fd418f40c19",
        "colab": {
          "base_uri": "https://localhost:8080/",
          "height": 35
        }
      },
      "source": [
        "np.sum(w*x)+b #대략 -0.2(부동소수점 수에 의한 연산 오차)"
      ],
      "execution_count": 0,
      "outputs": [
        {
          "output_type": "execute_result",
          "data": {
            "text/plain": [
              "-0.19999999999999996"
            ]
          },
          "metadata": {
            "tags": []
          },
          "execution_count": 9
        }
      ]
    },
    {
      "cell_type": "markdown",
      "metadata": {
        "id": "67HlwAJ52V4G",
        "colab_type": "text"
      },
      "source": [
        "넘파이 배열끼리의 곱셈은 두 배열의 원소 수가 같다면 각 원소끼리 곱한다. 그래서 이 예시에서 w * x에서는 인덱스가 같은 원소끼리 곱한다 . ([0, 1] * [0.5, 0.5] => [0, 0.5]). <br>\n",
        "\n",
        "또, np.sum() 메서드는 입력한 배열에 담긴 모든 원소의 총합을 계산한다. 이 가중치에 편향을 더하면 [식 2.2]의 계산이 완료된다. "
      ]
    },
    {
      "cell_type": "markdown",
      "metadata": {
        "id": "V1mv5_8P21Aw",
        "colab_type": "text"
      },
      "source": [
        "#### 2.3.3. 가중치와 편향 구하기\n",
        "\n",
        "'가중치와 편향을 도입'한 AND 게이트는 다음과 같이 구현할 수 있다. "
      ]
    },
    {
      "cell_type": "code",
      "metadata": {
        "id": "VNypCL2j2-nP",
        "colab_type": "code",
        "colab": {}
      },
      "source": [
        "def AND(x1, x2):\n",
        "  x = np.array([x1, x2])\n",
        "  w = np.array([0.5, 0.5])\n",
        "  b = -0.7\n",
        "  tmp = np.sum(w*x)+b\n",
        "  if tmp <= 0:\n",
        "    return 0\n",
        "  else:\n",
        "    return 1"
      ],
      "execution_count": 0,
      "outputs": []
    },
    {
      "cell_type": "markdown",
      "metadata": {
        "id": "bZYASp323LjR",
        "colab_type": "text"
      },
      "source": [
        "여기에서 -&theta; 가 편향_b_ 로 치환되었음(2.3.1 절에서 구현한 AND의 theta가 -_b_ 가 되었음). \n",
        "\n",
        "그리고 편향은 가중치 _w_<sub>1</sub>, _w_<sub>2</sub>와 기능이 다르다는 사실에 주의해야함. \n",
        "\n",
        "구체적으로 말하면 가중치  _w_<sup>1</sup>과 _w_<sup>2</sup>는 각 입력 신호가  **결과에 주는 영향력(중요도)을 조절하는 매개변수**고, **편향**은 **뉴런이 얼마나 쉽게 활성화 (결과로 1을 출력)하느냐를 조정하는 매개변수**이다. \n",
        "\n",
        "예를 들어 b가 -0.1이면 각 입력 신호에 가중치를 곱한 값들의 합이 0.1을 초과할 때만 뉴런이 활성화된다. **반면**  _b_ 가 -20.0 이면 각 입력 신호에 가중치를 곱한 값들의 합이 20.0을 넘지 않으면 뉴런은 활성화 되지 않는다. \n",
        "\n",
        "이처럼 편향의 값은 뉴런이 얼마나 쉽게 활성화되는지를 결정한다. 한편 _w_<sub>1</sub>과 _w_<sub>2</sub>는 '가중치'로, _b_ 는 '편향'으로 서로 구별하기도 하지만 이 책에서는 문맥에 따라 셋 모두를 '가중치'라고 통용함. \n"
      ]
    },
    {
      "cell_type": "markdown",
      "metadata": {
        "id": "0EleUzkS9W6_",
        "colab_type": "text"
      },
      "source": [
        "이어서 NAND 게이트와 OR 게이트를 구현해본다"
      ]
    },
    {
      "cell_type": "code",
      "metadata": {
        "id": "-WXQ1BUS9ZuP",
        "colab_type": "code",
        "colab": {}
      },
      "source": [
        "def NAND(x1, x2):\n",
        "  x = np.array([x1, x2])\n",
        "  w = np.array([-0.5, -0.5]) #AND와는 가중치(w와 b)만 다르다!\n",
        "  b = 0.7\n",
        "  tmp = np.sum(w*x) + b\n",
        "  if tmp <= 0:\n",
        "    return 0\n",
        "  else:\n",
        "    return 1\n",
        "  "
      ],
      "execution_count": 0,
      "outputs": []
    },
    {
      "cell_type": "code",
      "metadata": {
        "id": "on93N1UI9u0l",
        "colab_type": "code",
        "colab": {}
      },
      "source": [
        "def OR(x1, x2):\n",
        "  x = np.array([x1, x2])\n",
        "  w = np.array([0.5, 0.5]) #AND와는 가중치 (w와 b)만 다르다!\n",
        "  b = -0.2\n",
        "  tmp = np.sum(w*x) + b\n",
        "  if tmp <0 : \n",
        "    return 0\n",
        "  else:\n",
        "    return 1"
      ],
      "execution_count": 0,
      "outputs": []
    },
    {
      "cell_type": "code",
      "metadata": {
        "id": "WplIRtq46Q1A",
        "colab_type": "code",
        "colab": {}
      },
      "source": [
        "#NAND 게이트 함수를 써서 0이 출력되게 해보시오 "
      ],
      "execution_count": 0,
      "outputs": []
    },
    {
      "cell_type": "code",
      "metadata": {
        "id": "ZST72vj76Vci",
        "colab_type": "code",
        "colab": {}
      },
      "source": [
        "#OR 게이트 함수를 써서 1이 출력되게 해보시오 \n"
      ],
      "execution_count": 0,
      "outputs": []
    },
    {
      "cell_type": "code",
      "metadata": {
        "id": "YsxznYDW6YQj",
        "colab_type": "code",
        "colab": {}
      },
      "source": [
        "#AND 게이트 함수를 써서 0이 출력되게 해보시오 "
      ],
      "execution_count": 0,
      "outputs": []
    },
    {
      "cell_type": "markdown",
      "metadata": {
        "id": "8vamckR4-GT7",
        "colab_type": "text"
      },
      "source": [
        "앞 절에서 AND, NAND, OR는 모두 같은 구조의 퍼셉트론이고, 차이는 가중치 매개 변수의 값 뿐이라고 했다. 실제로 파이썬으로 작성한 NAND와 OR 게이트의 코드에서도 AND와 다른 곳은 **중치와 편향 값을 설정하는 부분 뿐이다!**\n",
        "\n",
        "\n"
      ]
    },
    {
      "cell_type": "markdown",
      "metadata": {
        "id": "qJTF2ePM-WQE",
        "colab_type": "text"
      },
      "source": [
        "### 2.4. 퍼셉트론의 한계\n"
      ]
    },
    {
      "cell_type": "markdown",
      "metadata": {
        "id": "x_69Dm8E-hVa",
        "colab_type": "text"
      },
      "source": [
        "#### 2.4.1. 도전! XOR 게이트\n"
      ]
    },
    {
      "cell_type": "markdown",
      "metadata": {
        "id": "YmtzYdSp-kUx",
        "colab_type": "text"
      },
      "source": [
        "XOR 게이트는 **배타적 논리합** 이라는 논리 회로다. 그림 [2-5]와 같이 x<sub>1</sub>와 x<sub>2</sub>중 한 쪽이 1일 때만 1을 출력한다. ('배타적'이란 자기 외에는 거부한다는 의미!). 이 XOR 게이트를 퍼셉트론으로 구현하려면 가중치 매개 변수 값을 어떻게 설정해야할까?"
      ]
    },
    {
      "cell_type": "markdown",
      "metadata": {
        "id": "U1HEIkXZ-16S",
        "colab_type": "text"
      },
      "source": [
        "#### 그림 2-5\n",
        "\n",
        "|x<sub>1</sub>|x<sub>2</sub>| y|\n",
        "|-|-|-|\n",
        "|0|0|0|\n",
        "|1|0|1|\n",
        "|0|1|1|\n",
        "|1|1|1|\n"
      ]
    },
    {
      "cell_type": "markdown",
      "metadata": {
        "id": "d6NpNq9X-8cI",
        "colab_type": "text"
      },
      "source": [
        "지금까지 본 퍼셉트론으로는 이 XOR 게이트를 구현할 수 없다. \n",
        "\n",
        "우선 OR 게이트의 동작을 시각적으로 생각해본다면 OR게이트는 가중치 매개변수가 (b, w<sub>1</sub>, w<sub>2</sub>) = (-0.5, 1.0, 1.0)일 때 [그림2-4]의 진리표를 만족한다. 이때의 퍼셉트론은 [식 2.3]으로 표현된다. \n",
        "\n",
        "## [식2.3]\n",
        "\n"
      ]
    },
    {
      "cell_type": "markdown",
      "metadata": {
        "id": "lkri3SuE_b7s",
        "colab_type": "text"
      },
      "source": [
        "[식2.3]의 퍼셉트론은 직선으로 나뉜 두 영역을 만든다. 직선으로 나뉜 한쪽 영역은 1을 출력하고 다른 한쪽은 0을 출력한다. ([그림 2.6])\n",
        "\n",
        "#### 그림 2-6. 퍼셉트론의 시각화\n",
        "회색 영역은 0을 출력하는 영역이며 전체 영역은 OR 게이트의 성질을 만족한다. \n",
        "\n",
        "\n",
        "OR 게이트는 (x<sub>1</sub>, x<sub>2</sub>)= (0, 0)일 때 0을 출력하고 (0, 1), (1, 0), (1, 1)일 때는 1을 출력한다. 그림에서는 0을 원 (o), 1을 삼각형(&triangle;) 으로 표시했다. <br> OR 게이트를 만들려면 [그림 2-6]의 O과 &triangle; 을 직선으로 나누어야 한다. 실제로 이 그림의 직선은 4개의 점을 제대로 나누고 있다. <br>\n",
        "그럼 XOR 게이트의 경우는 어떨까? OR 게이트 때처럼 직선 하나로 o 과 &triangle; 을 나누는 영역을 만들 수 있을까?\n",
        "\n",
        "## [그림 2-7]. \n",
        "O과 &triangle; 은 XOR 게이트의 출력을 나타낸다. 직선 하나로 O과 &triangle; 을 나누는 영역을 만들 수 있을까?\n",
        "\n",
        "[그림 2-7]의 O과 &triangle; 을 직선 하나로 나누는 방법은 거의 불가능이다. \n",
        "\n"
      ]
    },
    {
      "cell_type": "markdown",
      "metadata": {
        "id": "mJiOLKvkAxgN",
        "colab_type": "text"
      },
      "source": [
        "### 2.4.2. 선형과 비선형\n",
        "\n",
        "직선 하나로는 [그림 2-7]의 O과 &triangle; 을 나눌 수 없다. 하지만 '직선'이라는 제약을 없앤다면 가능하다. 예를 들어 [그림2-8]처럼 나눌 수 있다. \n",
        "\n"
      ]
    },
    {
      "cell_type": "markdown",
      "metadata": {
        "id": "89kYUQnxA9D1",
        "colab_type": "text"
      },
      "source": [
        "#### 그림 2-8. 곡선이라면 o과 &triangle;을 나눌 수 있다. "
      ]
    },
    {
      "cell_type": "markdown",
      "metadata": {
        "id": "IX9zYaOTBDVu",
        "colab_type": "text"
      },
      "source": [
        "퍼셉트론은 직선 하나로 나눈 영역만 표현할 수 있다는 한계가 있다. [그림 2-8] 같은 곡선은 표현할 수 없다는 것. 덧붙여서 [그림 2-8]과 같은 곡선의 영역을 **비선형** 영역, 직선의 영역을 **선형** 이라고 한다. **선형**, **비선형** 은 기계학습 분야에서 자주쓰이는 용어로, [그림 2-6]과 [그림 2-8]같은 이미지를 떠올리면 된다. "
      ]
    },
    {
      "cell_type": "markdown",
      "metadata": {
        "id": "69IH2iVTBY1G",
        "colab_type": "text"
      },
      "source": [
        "### 2.5. 다층 퍼셉트론이 출동한다면?\n",
        "\n",
        "위에서 언급했듯이 **(단층) 퍼셉트론** 으로는 XOR 게이트를 표현 (즉, 비선형 영역을 분리할 수 없다). \n",
        "\n",
        "이를 보완하기 위한 방법 중 하나가 '층을 쌓는' 다층 퍼셉트론<sup>multi-layer perceptron</sup>' 을 만드는 방법이다. 이번 절에서는 층을 하나 더 쌓아서 XOR를 표현할 것이다. \n",
        "\n",
        "층을 본격적으로 쌓기 전에, 기존의 XOR 게이트 문제를 다른 관점에서 생각해보자. "
      ]
    },
    {
      "cell_type": "markdown",
      "metadata": {
        "id": "IjsZCV1ZB8Jn",
        "colab_type": "text"
      },
      "source": [
        "#### 2.5.1. 기존 게이트 조합하기\n",
        "\n",
        "XOR 게이트를 만드는 방법은 다양하다. 그 중 하나는 앞서 만든 AND, NAND, OR 게이트를 조합하는 방법이다. 여기서는 AND, NAND, OR 게이트를 [그림 2-9]와 같은 기호로 표기한다. 참고로 [그림 2-9]의 NAND 게이트 출력부에 있는 o 기호는 출력을 반전한다는 뜻이다. \n"
      ]
    },
    {
      "cell_type": "markdown",
      "metadata": {
        "id": "zMRpNlmxCM9D",
        "colab_type": "text"
      },
      "source": [
        "#### 그림 2-9. AND, NAND, OR 게이트 기호 "
      ]
    },
    {
      "cell_type": "markdown",
      "metadata": {
        "id": "TwuL4JnxCQPB",
        "colab_type": "text"
      },
      "source": [
        "그럼 XOR 게이트를 만들려면 AND, NAND, OR를 어떻게 조합하면 될까? \n",
        "\n",
        "힌트: [그림 2-10]의 ?에 3가지 게이트를 하나씩 대입해보자 \n",
        "\n"
      ]
    },
    {
      "cell_type": "markdown",
      "metadata": {
        "id": "WASBZPLfCqPm",
        "colab_type": "text"
      },
      "source": [
        "#### [그림 2-11] AND, NAND, OR 게이트를 조합해 구현한 XOR 게이트"
      ]
    },
    {
      "cell_type": "markdown",
      "metadata": {
        "id": "thV9kGn0Cvmo",
        "colab_type": "text"
      },
      "source": [
        "그림 [2-11]과 같은 조합이라면 XOR 게이트를 구현할 수 있다. x<sub>1</sub>가 입력 신호, y가 출력신호이다. x<sub>1</sub>과 x<sub>2</sub>는 NAND와 OR게이트의 입력이 되고, NAND와 OR의 출력이 AND 게이트의 입력으로 이어진다. "
      ]
    },
    {
      "cell_type": "markdown",
      "metadata": {
        "id": "8vp8D6oCC9FH",
        "colab_type": "text"
      },
      "source": [
        "#### [그림 2-12] XOR 게이트의 진리표\n",
        "\n",
        "|x<sub>1</sub>|x<sub>2</sub>|s<sub>1</sub>|s<sub>2</sub>|y|\n",
        "|-|-|-|-|-|\n",
        "|0|0|1|0|0|\n",
        "1|0|1|1|1|\n",
        "0|1|1|1|1|\n",
        "1|1|0|1|0|\n",
        "\n",
        "그림 2-11의 조합이 정말 XOR를 구현하는지 살펴보았다. NAND의 출력을 s<sub>1</sub>, OR의 출력을 s<sub>2</sub>로 해서 진리표를 만들면 그림 2-12처럼 된다. x<sub>1</sub>, x<sub>2</sub>, y에 주목하면 XOR의 출력과 같은 것을 알 수 있다. \n"
      ]
    },
    {
      "cell_type": "markdown",
      "metadata": {
        "id": "LxZ4mhtcDuoA",
        "colab_type": "text"
      },
      "source": [
        "#### 2.5.2. XOR 게이트 구현하기\n",
        "\n",
        "이어서 [그림 2-11]처럼 조합된 XOR 게이트를 파이썬으로 구현해보자. 지금까지 정의한 함수 AND, NAND, OR를 사용하면 다음과 같이 구현할 수 있다. "
      ]
    },
    {
      "cell_type": "code",
      "metadata": {
        "id": "gkdSOCMw5K_u",
        "colab_type": "code",
        "colab": {}
      },
      "source": [
        "def XOR(x1, x2):\n",
        "  s1 = NAND(x1, x2) #0층\n",
        "  s2 = OR(x1, x2) #1층\n",
        "  y = AND(s1, s2) #2층\n",
        "  return y"
      ],
      "execution_count": 0,
      "outputs": []
    },
    {
      "cell_type": "markdown",
      "metadata": {
        "id": "yJz2VCv761TM",
        "colab_type": "text"
      },
      "source": [
        ""
      ]
    },
    {
      "cell_type": "code",
      "metadata": {
        "id": "WSw1nRGZ6_Kt",
        "colab_type": "code",
        "colab": {}
      },
      "source": [
        "#XOR 게이트 함수를 써서 0을 출력해보시오 "
      ],
      "execution_count": 0,
      "outputs": []
    },
    {
      "cell_type": "code",
      "metadata": {
        "id": "SS9QdGgH7EaX",
        "colab_type": "code",
        "colab": {}
      },
      "source": [
        "#XOR 게이트 함수를 써서 1을 출력해보시오 "
      ],
      "execution_count": 0,
      "outputs": []
    },
    {
      "cell_type": "markdown",
      "metadata": {
        "id": "JhEuPjj67HE_",
        "colab_type": "text"
      },
      "source": [
        "위에서 구현한 XOR를 뉴런을 이용한 퍼셉트론으로 표현하면 [그림 2-13]처럼 된다. \n",
        "\n",
        "## 그림 2-13."
      ]
    },
    {
      "cell_type": "markdown",
      "metadata": {
        "id": "UvfSAT0x7c7Q",
        "colab_type": "text"
      },
      "source": [
        "XOR는 [그림2-13]과 같은 다층 구조의 네트워크이다. 이 책에서는 왼쪽에서 차례로 0,1,2층이라고 일컫는다. 그런데 그림 2-13은 이전까지 봤던 (단층)퍼셉트론과는 형태가 다르다. XOR는 단층이 아닌, 2층 퍼셉트론이다. 이처럼 층이 여러개인 퍼셉트론을 **다층 퍼셉트론**이라고 한다. \n",
        "\n",
        "그림 2-13과 같은 2층 퍼셉트론에서는 0층에서 1층으로 신호가 전달되고 이어서 1층에서 2층으로 신호가 전달된다. "
      ]
    },
    {
      "cell_type": "markdown",
      "metadata": {
        "id": "kc1DI7em76cb",
        "colab_type": "text"
      },
      "source": [
        "**각주 \n",
        "\n",
        "그림 2-13은 모두 3층으로 구성되어있으나 실제 '가중치'를 갖는 층은 2개(0~1층 사이, 1~2층 사이) 뿐이니 <2층 퍼셉트론>이라 부르기로 한다. 문헌에 따라 구성 층의 수를 기준으로 '3층 퍼셉트론'이라 하는 경우도 있다. "
      ]
    },
    {
      "cell_type": "markdown",
      "metadata": {
        "id": "5a7VjF3w8S3L",
        "colab_type": "text"
      },
      "source": [
        "정리하자면 2-13의 신호 전달은 다음과 같은 과정을 거친다. \n",
        "\n",
        "1) 0층의 두 뉴런이 입력 신호를 받아 1층의 뉴런으로 신호를 보낸다\n",
        "2) 1층의 뉴런이 2층의 뉴런으로 신호를 보내고, 2층의 뉴런은 y를 출력한다. \n",
        "\n",
        "\n",
        "\n"
      ]
    },
    {
      "cell_type": "markdown",
      "metadata": {
        "id": "DvKvKMH-9c9O",
        "colab_type": "text"
      },
      "source": [
        "### 2.6. NAND에서 컴퓨터까지\n",
        "\n",
        "읽을거리. 스킵. \n",
        "\n",
        "참고: The elements of computing systems : building a modern computer from first principles (the MIT Press, 2005)\n",
        "\n",
        "<img src = \"./image/boolean.png\"/>"
      ]
    },
    {
      "cell_type": "markdown",
      "metadata": {
        "id": "w6IhkuVa9mEy",
        "colab_type": "text"
      },
      "source": [
        "### 2.7. 정리 \n",
        "\n",
        "<<이번 장에서 배운 내용>>\n",
        "\n",
        "- 퍼셉트론은 입출력을 갖춘 알고리즘이다. 입력을 주면 정해진 규칙에 따른 값을 출력한다. \n",
        "- 퍼셉트론에서는 '가중치'와 '편향'을 매개변수로 설정한다. \n",
        "- 퍼셉트론으로 AND, OR 게이트 등의 논리 회로를 표현할 수 있다. \n",
        "- XOR 게이트는 단층 퍼셉트론으로는 표현할 수 없다. \n",
        "- 2층 퍼셉트론을 이용하면 XOR 게이트를 표현할 수 있다. \n",
        "- 단층 퍼셉트론은 직선형 영역만 표현할 수 있고, 다층 퍼셉트론은 비선형 영역도 표현할 수 있다. \n",
        "- 다층 퍼셉트론은 (이론상) 컴퓨터를 표현할 수 있다. \n"
      ]
    },
    {
      "cell_type": "code",
      "metadata": {
        "id": "tx9n6GaW-BMU",
        "colab_type": "code",
        "colab": {}
      },
      "source": [
        ""
      ],
      "execution_count": 0,
      "outputs": []
    }
  ]
}