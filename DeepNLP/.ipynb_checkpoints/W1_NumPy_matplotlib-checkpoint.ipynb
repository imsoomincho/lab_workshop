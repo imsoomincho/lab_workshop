{
 "cells": [
  {
   "cell_type": "markdown",
   "metadata": {
    "colab_type": "text",
    "id": "view-in-github"
   },
   "source": [
    "<a href=\"https://colab.research.google.com/github/yoonlee78/lab_workshop/blob/master/Deep_W1_NumPy_matplotlib.ipynb\" target=\"_parent\"><img src=\"https://colab.research.google.com/assets/colab-badge.svg\" alt=\"Open In Colab\"/></a>"
   ]
  },
  {
   "cell_type": "markdown",
   "metadata": {
    "colab_type": "text",
    "id": "bBcUbH4NuWqf"
   },
   "source": [
    "# Deep Learning from Scratch \n",
    "\n",
    "1.5. 넘파이 <br>\n",
    "1.6. matplotlib <br>\n",
    "1.7. 정리 <br>\n",
    "\n",
    "2.1. 퍼셉트론이란? <br>\n",
    "2.2. 단순한 논리회로 <br>\n",
    "2.3. 퍼셉트론 구현하기 <br>\n",
    "2.4. 퍼셉트론의 한계 <br>\n",
    "2.5. 다층 퍼셉트론이 충돌한다면 <br>\n",
    "2.6. NAND에서 컴퓨터까지. <br>\n",
    "2.7. 정리 <br>\n",
    "\n"
   ]
  },
  {
   "cell_type": "markdown",
   "metadata": {
    "colab_type": "text",
    "id": "w8_HxkjIaWq9"
   },
   "source": [
    "## 1.5. 넘파이"
   ]
  },
  {
   "cell_type": "markdown",
   "metadata": {
    "colab_type": "text",
    "id": "2c7sDyrSvSDC"
   },
   "source": [
    "### 1.5.1 넘파이 가져오기 \n",
    "\n",
    "딥러닝을 구현하다 보면 배열이나 행렬 계산이 많이 등장한다. (vector, matrix)\n",
    "**넘파이**의 배열 클래스인 numpy.array에는 편리한 메서드가 많이 준비되어 있어 딥러닝을 구현할 때 이 메서드들을 이용한다. \n",
    "**굵은 텍스트**"
   ]
  },
  {
   "cell_type": "code",
   "execution_count": 0,
   "metadata": {
    "colab": {},
    "colab_type": "code",
    "id": "5EslFweZuRuS"
   },
   "outputs": [],
   "source": [
    "import numpy as np"
   ]
  },
  {
   "cell_type": "markdown",
   "metadata": {
    "colab_type": "text",
    "id": "0_U159Wlvosz"
   },
   "source": [
    "### 1.5.2. 넘파이 배열 생성하기 "
   ]
  },
  {
   "cell_type": "markdown",
   "metadata": {
    "colab_type": "text",
    "id": "6LMe7zMfwOI-"
   },
   "source": [
    "**넘파이 배열**(numpy array)을 만들 때는 np.array() 메서드를 이용한다. np.array()는 파이썬의 리스트를 인수로 받아 넘파이 라이브러리가 제공하는 특수한 형태의 배열 (numpy.ndarray)를 반환한다. \n",
    "\n",
    "\n",
    "--- \n",
    "Numpy 배열(np.array)은 N 차원 배열을 생성할 수 있다. 1차원,  2 차원, 3 차원 배열처럼 원하는 차수의 배열을 만들 수 있다. 수학에서는 1차원 배열은 벡터<sup>vector</sup>, 2차원 배열은 행렬<sup>matrix</sup>라고 한다. 벡터와 행렬을 일반화한 것을 텐서<sup>tensor</sup>라고 한다. 이 책에서는 기본적으로 2차원 배열을 '행렬', 3차원 이상의 배열을 '다차원 배열'이라고 할 것이다."
   ]
  },
  {
   "cell_type": "code",
   "execution_count": 4,
   "metadata": {
    "colab": {
     "base_uri": "https://localhost:8080/",
     "height": 35
    },
    "colab_type": "code",
    "id": "a2TLD-xWwcVh",
    "outputId": "fe15adb0-cce5-44b9-8938-0d17a9ccf945"
   },
   "outputs": [
    {
     "name": "stdout",
     "output_type": "stream",
     "text": [
      "[1. 2. 3.]\n"
     ]
    }
   ],
   "source": [
    "x = np.array([1.0,2.0,3.0])\n",
    "print(x)"
   ]
  },
  {
   "cell_type": "code",
   "execution_count": 5,
   "metadata": {
    "colab": {
     "base_uri": "https://localhost:8080/",
     "height": 35
    },
    "colab_type": "code",
    "id": "Y0XpgZC3woKP",
    "outputId": "212d3cbc-ff5d-4665-c8c0-e4aec01fac35"
   },
   "outputs": [
    {
     "data": {
      "text/plain": [
       "numpy.ndarray"
      ]
     },
     "execution_count": 5,
     "metadata": {
      "tags": []
     },
     "output_type": "execute_result"
    }
   ],
   "source": [
    "type(x)"
   ]
  },
  {
   "cell_type": "markdown",
   "metadata": {
    "colab_type": "text",
    "id": "Xf0qohhbwpZO"
   },
   "source": [
    "### 1.5.3. 넘파이의 산술 연산\n"
   ]
  },
  {
   "cell_type": "code",
   "execution_count": 6,
   "metadata": {
    "colab": {
     "base_uri": "https://localhost:8080/",
     "height": 35
    },
    "colab_type": "code",
    "id": "Hrc8G_xHwwBz",
    "outputId": "7284a710-e122-49b3-d971-bdfc9e51dcc6"
   },
   "outputs": [
    {
     "data": {
      "text/plain": [
       "array([3., 6., 9.])"
      ]
     },
     "execution_count": 6,
     "metadata": {
      "tags": []
     },
     "output_type": "execute_result"
    }
   ],
   "source": [
    "x = np.array([1.0, 2.0, 3.0])\n",
    "y = np.array([2.0, 4.0, 6.0])\n",
    "x + y"
   ]
  },
  {
   "cell_type": "code",
   "execution_count": 7,
   "metadata": {
    "colab": {
     "base_uri": "https://localhost:8080/",
     "height": 35
    },
    "colab_type": "code",
    "id": "b8jv1R59w4hc",
    "outputId": "03e030d8-43ff-40af-d8ad-646e11596bba"
   },
   "outputs": [
    {
     "data": {
      "text/plain": [
       "array([-1., -2., -3.])"
      ]
     },
     "execution_count": 7,
     "metadata": {
      "tags": []
     },
     "output_type": "execute_result"
    }
   ],
   "source": [
    "x - y"
   ]
  },
  {
   "cell_type": "code",
   "execution_count": 8,
   "metadata": {
    "colab": {
     "base_uri": "https://localhost:8080/",
     "height": 35
    },
    "colab_type": "code",
    "id": "a-ZXZwHXw6B1",
    "outputId": "24e2d1a5-1742-4f64-eff5-6007d2173640"
   },
   "outputs": [
    {
     "data": {
      "text/plain": [
       "array([ 2.,  8., 18.])"
      ]
     },
     "execution_count": 8,
     "metadata": {
      "tags": []
     },
     "output_type": "execute_result"
    }
   ],
   "source": [
    "x * y #element-wise product"
   ]
  },
  {
   "cell_type": "code",
   "execution_count": 9,
   "metadata": {
    "colab": {
     "base_uri": "https://localhost:8080/",
     "height": 35
    },
    "colab_type": "code",
    "id": "7HqWzkDmw9Ec",
    "outputId": "a141a787-1e6d-47bb-84a0-30bddc7af74a"
   },
   "outputs": [
    {
     "data": {
      "text/plain": [
       "array([0.5, 0.5, 0.5])"
      ]
     },
     "execution_count": 9,
     "metadata": {
      "tags": []
     },
     "output_type": "execute_result"
    }
   ],
   "source": [
    "x / y "
   ]
  },
  {
   "cell_type": "code",
   "execution_count": 0,
   "metadata": {
    "colab": {},
    "colab_type": "code",
    "id": "44JtzxOnw-hN"
   },
   "outputs": [],
   "source": []
  },
  {
   "cell_type": "markdown",
   "metadata": {
    "colab_type": "text",
    "id": "aCeZkI9nxAmS"
   },
   "source": [
    "여기서 주의할 점은 배열 x와 y의 원소의 개수가 같다는 점이다. \n",
    "둘 다 원소를 3 개씩 갖는 1차원 배열이다. <br>\n",
    "x  와 y 원소 수가 같다면 산술 연산은 각 원소에 대해서 행해진다. <br>\n",
    "원소 수가 다르면 오류가 발생하니 원수 수 맞추기는 중요. <br>\n",
    "원소별 곱셈 (element-wise product)\n",
    "\n",
    "\n"
   ]
  },
  {
   "cell_type": "markdown",
   "metadata": {
    "colab_type": "text",
    "id": "NCLHlvaSxyvI"
   },
   "source": [
    "### 1.5.4 넘파이의 N차원 배열\n",
    "넘파이는 1차원 배열(1줄로 늘어선 배열) 뿐 아니라 다차원 배열도 작성할 수 있다. 예를 들어 2차원 배열(행렬)은 다음처럼 작성한다. \n"
   ]
  },
  {
   "cell_type": "code",
   "execution_count": 12,
   "metadata": {
    "colab": {
     "base_uri": "https://localhost:8080/",
     "height": 53
    },
    "colab_type": "code",
    "id": "Pwb36kcUx8ie",
    "outputId": "d19f668d-40b8-43a2-a47a-e2267286c38f"
   },
   "outputs": [
    {
     "name": "stdout",
     "output_type": "stream",
     "text": [
      "[[1 2]\n",
      " [3 4]]\n"
     ]
    }
   ],
   "source": [
    "A = np.array( [ [1, 2] , [3, 4] ] )\n",
    "print(A)"
   ]
  },
  {
   "cell_type": "code",
   "execution_count": 13,
   "metadata": {
    "colab": {
     "base_uri": "https://localhost:8080/",
     "height": 35
    },
    "colab_type": "code",
    "id": "SfUpzvsFyBpZ",
    "outputId": "63852249-0109-43ab-d149-dd2b25120b02"
   },
   "outputs": [
    {
     "data": {
      "text/plain": [
       "(2, 2)"
      ]
     },
     "execution_count": 13,
     "metadata": {
      "tags": []
     },
     "output_type": "execute_result"
    }
   ],
   "source": [
    "A.shape #각 차원의 크기(원소 수) = 형상(shape)"
   ]
  },
  {
   "cell_type": "code",
   "execution_count": 14,
   "metadata": {
    "colab": {
     "base_uri": "https://localhost:8080/",
     "height": 35
    },
    "colab_type": "code",
    "id": "-pCh2kjUyI9E",
    "outputId": "9ec34294-6743-4315-aeea-7aaafb784e11"
   },
   "outputs": [
    {
     "data": {
      "text/plain": [
       "dtype('int64')"
      ]
     },
     "execution_count": 14,
     "metadata": {
      "tags": []
     },
     "output_type": "execute_result"
    }
   ],
   "source": [
    "A.dtype #행렬에 담긴 원소의 자료형 dtype으로 알 수 있다."
   ]
  },
  {
   "cell_type": "markdown",
   "metadata": {
    "colab_type": "text",
    "id": "0UB1KPVzyKCG"
   },
   "source": [
    "형상이 같은 행렬끼리면 행렬의 산술 연산도 대응하는 원소별로 계산된다 (배열과 마찬가지) 행렬과 스칼라값의 산술 연산도 가능하며, 이 때도 (배열과 마찬가지로) 브로드캐스트 기능이 작동한다. "
   ]
  },
  {
   "cell_type": "code",
   "execution_count": 0,
   "metadata": {
    "colab": {},
    "colab_type": "code",
    "id": "EwzuvWKnylUW"
   },
   "outputs": [],
   "source": [
    "B = np.array([ [ 3, 0 ], [0, 6]])"
   ]
  },
  {
   "cell_type": "code",
   "execution_count": 16,
   "metadata": {
    "colab": {
     "base_uri": "https://localhost:8080/",
     "height": 53
    },
    "colab_type": "code",
    "id": "87S2xDm4yq1h",
    "outputId": "bf07fdde-5ba4-4f88-b927-bf64a227a75d"
   },
   "outputs": [
    {
     "data": {
      "text/plain": [
       "array([[ 4,  2],\n",
       "       [ 3, 10]])"
      ]
     },
     "execution_count": 16,
     "metadata": {
      "tags": []
     },
     "output_type": "execute_result"
    }
   ],
   "source": [
    "A + B"
   ]
  },
  {
   "cell_type": "code",
   "execution_count": 17,
   "metadata": {
    "colab": {
     "base_uri": "https://localhost:8080/",
     "height": 53
    },
    "colab_type": "code",
    "id": "bSo_ffBiyrnR",
    "outputId": "f95b7532-c45e-4c1a-8ce8-33a0d553b455"
   },
   "outputs": [
    {
     "data": {
      "text/plain": [
       "array([[ 3,  0],\n",
       "       [ 0, 24]])"
      ]
     },
     "execution_count": 17,
     "metadata": {
      "tags": []
     },
     "output_type": "execute_result"
    }
   ],
   "source": [
    "A * B"
   ]
  },
  {
   "cell_type": "code",
   "execution_count": 18,
   "metadata": {
    "colab": {
     "base_uri": "https://localhost:8080/",
     "height": 53
    },
    "colab_type": "code",
    "id": "FYx2TsiwysxX",
    "outputId": "9d741450-f755-4ad2-e849-3b8215cdca3a"
   },
   "outputs": [
    {
     "name": "stdout",
     "output_type": "stream",
     "text": [
      "[[1 2]\n",
      " [3 4]]\n"
     ]
    }
   ],
   "source": [
    "print(A)"
   ]
  },
  {
   "cell_type": "code",
   "execution_count": 19,
   "metadata": {
    "colab": {
     "base_uri": "https://localhost:8080/",
     "height": 53
    },
    "colab_type": "code",
    "id": "upc1udMmyuzm",
    "outputId": "5cf877c0-95e2-4260-b417-20f5d7b749f7"
   },
   "outputs": [
    {
     "data": {
      "text/plain": [
       "array([[10, 20],\n",
       "       [30, 40]])"
      ]
     },
     "execution_count": 19,
     "metadata": {
      "tags": []
     },
     "output_type": "execute_result"
    }
   ],
   "source": [
    "A * 10"
   ]
  },
  {
   "cell_type": "markdown",
   "metadata": {
    "colab_type": "text",
    "id": "DyxBe3Pnyv3M"
   },
   "source": [
    "### 1.5.5. 브로드캐스트\n",
    "\n",
    "넘파이에서는 형상이 다른 배열끼리도 계산이 가능하다. "
   ]
  },
  {
   "cell_type": "markdown",
   "metadata": {
    "colab_type": "text",
    "id": "-rzlJLhBxaDx"
   },
   "source": [
    "**Broadcast**\n",
    "\n",
    "넘파이 배열은 원소별 계산 뿐 아니라 넘파이 배열과 스칼라값(수치 하나)의 조합으로 된 산술 연산도 가능함. <br>\n",
    "이 경우, 스칼라값과의 계산이 넘파이 배열의 원소별로 한 번씩 수행된다. (**broadcast**)\n",
    "\n"
   ]
  },
  {
   "cell_type": "code",
   "execution_count": 10,
   "metadata": {
    "colab": {
     "base_uri": "https://localhost:8080/",
     "height": 35
    },
    "colab_type": "code",
    "id": "9O7MdsVtxupq",
    "outputId": "23359fb2-004b-4430-80df-8384a2f6b2c1"
   },
   "outputs": [
    {
     "data": {
      "text/plain": [
       "array([0.5, 1. , 1.5])"
      ]
     },
     "execution_count": 10,
     "metadata": {
      "tags": []
     },
     "output_type": "execute_result"
    }
   ],
   "source": [
    "x = np.array([1.0, 2.0, 3.0])\n",
    "x / 2.0"
   ]
  },
  {
   "cell_type": "markdown",
   "metadata": {
    "colab_type": "text",
    "id": "W4QIu0nUz7cC"
   },
   "source": [
    "2 x 2 행렬 A 에 스칼라값 10을 곱하면 10이라는 스칼라값이 2 x 2 행렬로 확대된 후 연산된다. 이 \"똑똑한\" 기능을 브로드캐스트라고 한다. \n",
    "\n",
    "#### <그림 1-1>\n"
   ]
  },
  {
   "cell_type": "markdown",
   "metadata": {
    "colab_type": "text",
    "id": "6j_2fbtP0ZlS"
   },
   "source": [
    "#### <그림 1-2>"
   ]
  },
  {
   "cell_type": "markdown",
   "metadata": {
    "colab_type": "text",
    "id": "6OuOldap0tgT"
   },
   "source": [
    "### 1.5.6. 원소 접근\n",
    "\n",
    "원소의 인덱스는 0부터 시작한다. 그리고 각 원소에 접근하려면 다음과 같이 '인덱싱'을 사용한다. (파이썬 문법)"
   ]
  },
  {
   "cell_type": "code",
   "execution_count": 21,
   "metadata": {
    "colab": {
     "base_uri": "https://localhost:8080/",
     "height": 71
    },
    "colab_type": "code",
    "id": "ZIbnY4tN02UA",
    "outputId": "8d19e191-a929-4ad5-a881-f6e2fcfbc4a3"
   },
   "outputs": [
    {
     "name": "stdout",
     "output_type": "stream",
     "text": [
      "[[51 55]\n",
      " [14 19]\n",
      " [ 0  4]]\n"
     ]
    }
   ],
   "source": [
    "X = np.array( [ [51, 55], [14, 19], [0, 4] ] )\n",
    "print(X)\n"
   ]
  },
  {
   "cell_type": "code",
   "execution_count": 22,
   "metadata": {
    "colab": {
     "base_uri": "https://localhost:8080/",
     "height": 35
    },
    "colab_type": "code",
    "id": "tRQtnyS508JO",
    "outputId": "9b0dbf09-7513-4c73-b8d2-8b14594c3427"
   },
   "outputs": [
    {
     "data": {
      "text/plain": [
       "array([51, 55])"
      ]
     },
     "execution_count": 22,
     "metadata": {
      "tags": []
     },
     "output_type": "execute_result"
    }
   ],
   "source": [
    "X[0] #0행"
   ]
  },
  {
   "cell_type": "code",
   "execution_count": 23,
   "metadata": {
    "colab": {
     "base_uri": "https://localhost:8080/",
     "height": 35
    },
    "colab_type": "code",
    "id": "wEgsi_xb1H7v",
    "outputId": "c41bfa2a-bfb8-4e17-b72c-87c539fcdfed"
   },
   "outputs": [
    {
     "data": {
      "text/plain": [
       "55"
      ]
     },
     "execution_count": 23,
     "metadata": {
      "tags": []
     },
     "output_type": "execute_result"
    }
   ],
   "source": [
    "X[0][1]"
   ]
  },
  {
   "cell_type": "markdown",
   "metadata": {
    "colab_type": "text",
    "id": "HaYbJ0I61K3b"
   },
   "source": [
    "for 문으로도 각 원소에 접근할 수 있다. "
   ]
  },
  {
   "cell_type": "code",
   "execution_count": 24,
   "metadata": {
    "colab": {
     "base_uri": "https://localhost:8080/",
     "height": 71
    },
    "colab_type": "code",
    "id": "XO5i6lhZ1OpE",
    "outputId": "11336571-7775-4534-d141-c2c2d1dd1245"
   },
   "outputs": [
    {
     "name": "stdout",
     "output_type": "stream",
     "text": [
      "[51 55]\n",
      "[14 19]\n",
      "[0 4]\n"
     ]
    }
   ],
   "source": [
    "for row in X: \n",
    "    print(row)"
   ]
  },
  {
   "cell_type": "markdown",
   "metadata": {
    "colab_type": "text",
    "id": "pFkn-CPs1Rh-"
   },
   "source": [
    "넘파이는 지금까지의 방법 외에도 인덱스를 배열로 지정해 한 번에 여러 원소에 접근할 수 있다. "
   ]
  },
  {
   "cell_type": "code",
   "execution_count": 25,
   "metadata": {
    "colab": {
     "base_uri": "https://localhost:8080/",
     "height": 35
    },
    "colab_type": "code",
    "id": "4tTiIEAR1WlS",
    "outputId": "ebde433f-e201-416c-ec4f-0e675f9c49cc"
   },
   "outputs": [
    {
     "name": "stdout",
     "output_type": "stream",
     "text": [
      "[51 55 14 19  0  4]\n"
     ]
    }
   ],
   "source": [
    "X = X.flatten() #X를 1차원 배열로 변환(평탄화)\n",
    "print(X)"
   ]
  },
  {
   "cell_type": "code",
   "execution_count": 26,
   "metadata": {
    "colab": {
     "base_uri": "https://localhost:8080/",
     "height": 35
    },
    "colab_type": "code",
    "id": "qj-WzmwS1uHk",
    "outputId": "9ec2c7b3-7f94-4525-8480-2b8986b0e06f"
   },
   "outputs": [
    {
     "data": {
      "text/plain": [
       "array([51, 14,  0])"
      ]
     },
     "execution_count": 26,
     "metadata": {
      "tags": []
     },
     "output_type": "execute_result"
    }
   ],
   "source": [
    "X[np.array( [0, 2, 4] )] #인덱스가 0, 2, 4인 원소 얻기"
   ]
  },
  {
   "cell_type": "markdown",
   "metadata": {
    "colab_type": "text",
    "id": "LmXcUfvq10rm"
   },
   "source": [
    "이 기법을 응용하면 특정 조건을 만족하는 원소만 얻을 수 있다. 예컨데 다음과 같이 배열 X에서 15이상인 값만 구할 수 있다. "
   ]
  },
  {
   "cell_type": "code",
   "execution_count": 27,
   "metadata": {
    "colab": {
     "base_uri": "https://localhost:8080/",
     "height": 35
    },
    "colab_type": "code",
    "id": "Ce2sG-iO16f_",
    "outputId": "aec0336d-44a5-453f-c24a-75e2077150db"
   },
   "outputs": [
    {
     "data": {
      "text/plain": [
       "array([ True,  True, False,  True, False, False])"
      ]
     },
     "execution_count": 27,
     "metadata": {
      "tags": []
     },
     "output_type": "execute_result"
    }
   ],
   "source": [
    "X > 15 #15보다 큰 값만 보기"
   ]
  },
  {
   "cell_type": "code",
   "execution_count": 28,
   "metadata": {
    "colab": {
     "base_uri": "https://localhost:8080/",
     "height": 35
    },
    "colab_type": "code",
    "id": "8CtlyGAC18Az",
    "outputId": "4fc46427-2816-4f45-b7c7-6382d5cf0fd7"
   },
   "outputs": [
    {
     "data": {
      "text/plain": [
       "array([51, 55, 19])"
      ]
     },
     "execution_count": 28,
     "metadata": {
      "tags": []
     },
     "output_type": "execute_result"
    }
   ],
   "source": [
    "X[ X > 15] #15보다 큰 값만 뽑아내기"
   ]
  },
  {
   "cell_type": "markdown",
   "metadata": {
    "colab_type": "text",
    "id": "jZhY_VyD19yS"
   },
   "source": [
    "넘파이 배열에 부등호 연산자를 사용한 (앞 예에서 X > 15) 결과는 bool 배열이다. 여기에서는 이 bool 배열을 사용해 배열 X에서 True에 해당하는 원소, 즉 값이 15보다 큰 원소만 꺼냈다. "
   ]
  },
  {
   "cell_type": "markdown",
   "metadata": {
    "colab_type": "text",
    "id": "_jt6sl8b2s01"
   },
   "source": [
    "-----\n"
   ]
  },
  {
   "cell_type": "markdown",
   "metadata": {
    "colab_type": "text",
    "id": "mtfR9H9SaARq"
   },
   "source": [
    "## 1.6. matplotlib\n",
    "\n",
    "딥러닝 실험에서는 그래프 그리기와 데이터 시각화도 중요하다. <br>\n",
    "_matplotlib_ 은 그래프 및 데이터 시각화에 유용한 도구이다. \n"
   ]
  },
  {
   "cell_type": "markdown",
   "metadata": {
    "colab_type": "text",
    "id": "z7Qd4VR-aTEm"
   },
   "source": [
    "#### 1.6.1. 단순한 그래프 그리기\n",
    "\n",
    "그래프를 그리려면 matplotlib의 **pyplot** 모듈을 사용한다. 간단하기 sin 함수를 그려보자"
   ]
  },
  {
   "cell_type": "code",
   "execution_count": 33,
   "metadata": {
    "colab": {
     "base_uri": "https://localhost:8080/",
     "height": 269
    },
    "colab_type": "code",
    "id": "OdNLVbo7agdr",
    "outputId": "7f176d6d-703a-4d00-d008-a69c77fc7fc2"
   },
   "outputs": [
    {
     "data": {
      "image/png": "[encoded data removed]",
      "text/plain": [
       "<Figure size 432x288 with 1 Axes>"
      ]
     },
     "metadata": {
      "tags": []
     },
     "output_type": "display_data"
    }
   ],
   "source": [
    "import numpy as np\n",
    "import matplotlib.pyplot as plt #matplotlib을 불러오기\n",
    "#노트북에 그래프를 그리려면 matplotlib inline을 그려야한다.\n",
    "%matplotlib inline \n",
    "\n",
    "#데이터 준비\n",
    "x = np.arange(0, 6, 0.1) #0에서 6까지 0.1간격으로 생성\n",
    "y = np.sin(x)\n",
    "\n",
    "#그래프 그리기\n",
    "plt.plot(x, y)\n",
    "plt.show()"
   ]
  },
  {
   "cell_type": "markdown",
   "metadata": {
    "colab_type": "text",
    "id": "2gGZq4F7bEBF"
   },
   "source": [
    "이 코드에서는 넘파이의 **arange** 메서드로 [0, 0.1, 0.2...5.8, 5.9]라는 데이터를 생성하여 변수 x에 할당하였다. 그 다음줄에서는 x의 각 원소에 넘파이의 sin 함수인 np.sin()을 적용하여 변수 y에 할당한다. 이제 x와 y를 인수로 plt.plot 메서드를 호출해 그래프를 그린다. 마지막으로 plt.show()를 호출해 그래프를 화면에 출력한다. "
   ]
  },
  {
   "cell_type": "markdown",
   "metadata": {
    "colab_type": "text",
    "id": "vZ5wDANFbhAb"
   },
   "source": [
    "### 1.6.2. pyplot의 기능\n",
    "\n",
    "여기에 cos 함수도 추가로 그려보고, 제목과 각 축의 이름(레이블) 표시 등의 pyplot의 다른 기능도 사용해보기. "
   ]
  },
  {
   "cell_type": "code",
   "execution_count": 34,
   "metadata": {
    "colab": {
     "base_uri": "https://localhost:8080/",
     "height": 295
    },
    "colab_type": "code",
    "id": "_K_iovlifszc",
    "outputId": "dda8625a-8b57-4499-8816-095d68821ad7"
   },
   "outputs": [
    {
     "data": {
      "image/png": "[encoded data removed]",
      "text/plain": [
       "<Figure size 432x288 with 1 Axes>"
      ]
     },
     "metadata": {
      "tags": []
     },
     "output_type": "display_data"
    }
   ],
   "source": [
    "#import numpy as np\n",
    "#import matplotlib.pyplot as plt\n",
    "\n",
    "#데이터 준비\n",
    "x = np.arange(0, 6, 0.1) #0에서 6까지 0.1간격으로 생성\n",
    "y1 = np.sin(x)\n",
    "y2 = np.cos(x)\n",
    "\n",
    "#그래프 그리기\n",
    "plt.plot(x, y1, label = \"sin\")\n",
    "plt.plot(x, y2, linestyle = \"--\", label = \"cos\") #cos 함수는 점선으로 그리기\n",
    "plt.xlabel(\"x\") #x축 이름\n",
    "plt.ylabel(\"y\") #y축 이름\n",
    "plt.title('sin & cos') #제목\n",
    "plt.legend()\n",
    "plt.show()"
   ]
  },
  {
   "cell_type": "code",
   "execution_count": 0,
   "metadata": {
    "colab": {},
    "colab_type": "code",
    "id": "3bkaOCqWgSRf"
   },
   "outputs": [],
   "source": [
    "#실습"
   ]
  },
  {
   "cell_type": "markdown",
   "metadata": {
    "colab_type": "text",
    "id": "QT5ddYq0gUr3"
   },
   "source": [
    "### 1.6.3. 이미지 표시하기 \n",
    "\n",
    "pyplot에서는 이미지를 표시해주는 메서드인 imshow()도 준비되어 있습니다. 이미지를 읽어들일 때는 matplotlib.image 모듈의 imread() 메서드를 이용합니다. \n",
    "\n"
   ]
  },
  {
   "cell_type": "code",
   "execution_count": 0,
   "metadata": {
    "colab": {},
    "colab_type": "code",
    "id": "UYly-8QBgtPa"
   },
   "outputs": [],
   "source": [
    "import matplotlib.pyplot as plt\n",
    "from matplotlib.image import imread\n",
    "\n",
    "img = imread('lena.png') #이미지를 읽어오기 (경로를 자신의 환경에 맞게 설정할 것)\n",
    "\n",
    "plt.imshow(img)\n",
    "plt.show()"
   ]
  },
  {
   "cell_type": "code",
   "execution_count": 0,
   "metadata": {
    "colab": {},
    "colab_type": "code",
    "id": "VAMCky75gvZn"
   },
   "outputs": [],
   "source": [
    "from google.colab import auth\n",
    "auth.authenticate_user()\n"
   ]
  },
  {
   "cell_type": "code",
   "execution_count": 39,
   "metadata": {
    "colab": {
     "base_uri": "https://localhost:8080/",
     "height": 127
    },
    "colab_type": "code",
    "id": "A8MEH9mqhCW9",
    "outputId": "0d986d4f-29ca-482e-e868-6a314a70fd66"
   },
   "outputs": [
    {
     "name": "stdout",
     "output_type": "stream",
     "text": [
      "Go to this URL in a browser: https://accounts.google.com/o/oauth2/auth?client_id=947318989803-6bn6qk8qdgf4n4g3pfee6491hc0brc4i.apps.googleusercontent.com&redirect_uri=urn%3Aietf%3Awg%3Aoauth%3A2.0%3Aoob&scope=email%20https%3A%2F%2Fwww.googleapis.com%2Fauth%2Fdocs.test%20https%3A%2F%2Fwww.googleapis.com%2Fauth%2Fdrive%20https%3A%2F%2Fwww.googleapis.com%2Fauth%2Fdrive.photos.readonly%20https%3A%2F%2Fwww.googleapis.com%2Fauth%2Fpeopleapi.readonly&response_type=code\n",
      "\n",
      "Enter your authorization code:\n",
      "··········\n",
      "Mounted at /content/gdrive\n"
     ]
    }
   ],
   "source": [
    "from google.colab import drive\n",
    "drive.mount('/content/gdrive')"
   ]
  },
  {
   "cell_type": "code",
   "execution_count": 0,
   "metadata": {
    "colab": {},
    "colab_type": "code",
    "id": "sdyU0lx0hlpH"
   },
   "outputs": [],
   "source": [
    "#revisit later\n"
   ]
  }
 ],
 "metadata": {
  "colab": {
   "include_colab_link": true,
   "name": "Deep_W1_NumPy_matplotlib.ipynb",
   "provenance": [],
   "toc_visible": true,
   "version": "0.3.2"
  },
  "kernelspec": {
   "display_name": "Python 3",
   "language": "python",
   "name": "python3"
  },
  "language_info": {
   "codemirror_mode": {
    "name": "ipython",
    "version": 3
   },
   "file_extension": ".py",
   "mimetype": "text/x-python",
   "name": "python",
   "nbconvert_exporter": "python",
   "pygments_lexer": "ipython3",
   "version": "3.6.8"
  }
 },
 "nbformat": 4,
 "nbformat_minor": 1
}
