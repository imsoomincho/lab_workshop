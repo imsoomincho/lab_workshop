{
  "nbformat": 4,
  "nbformat_minor": 0,
  "metadata": {
    "colab": {
      "name": "W4_NeuralNet_Part2.ipynb",
      "version": "0.3.2",
      "provenance": [],
      "collapsed_sections": []
    },
    "kernelspec": {
      "name": "python3",
      "display_name": "Python 3"
    }
  },
  "cells": [
    {
      "cell_type": "markdown",
      "metadata": {
        "id": "qissZLB9IuNL",
        "colab_type": "text"
      },
      "source": [
        "Chapter 03. 신경망 (part 2)\n",
        "hfpsych lab workshop\n",
        "2019.7.23 Tue. Yoon Kyung Lee\n",
        "\n",
        "## 3.3 다차원 배열의 계산 \n",
        "### 3.3.1 다차원 배열\n",
        "### 3.3.2. 행렬의 곱\n",
        "### 3.3.3. 신경망에서의 행렬 곱\n",
        "## 3.4. 3층 신경망 구현하기\n",
        "### 3.4.1. 표기법 설명\n",
        "### 3.4.2. 각 층의 신호 전달 구현하기\n",
        "### 3.4.3. 구현 정리\n",
        "----\n",
        "(금요일에 이어서 )\n",
        "## 3.5. 출력층 설계하기\n",
        "### 3.5.1. 항등 함수와 소프트맥스 함수 구현하기\n",
        "### 3.5.2. 소프트맥스 함수 구현 시 주의점\n",
        "### 3.5.3. 소프트맥스 함수의 특징\n",
        "### 3.5.4. 출력층의 뉴런 수 정하기\n"
      ]
    },
    {
      "cell_type": "markdown",
      "metadata": {
        "id": "Aef-6qFCK3wn",
        "colab_type": "text"
      },
      "source": [
        "<a id = 'section 3.3'></a>"
      ]
    },
    {
      "cell_type": "markdown",
      "metadata": {
        "id": "fT75VBNvMPLF",
        "colab_type": "text"
      },
      "source": [
        "### 3.3. 다차원 배열의 계산"
      ]
    },
    {
      "cell_type": "markdown",
      "metadata": {
        "id": "gB6PkL1uMTZu",
        "colab_type": "text"
      },
      "source": [
        "넘파이의 다차원 배열을 사용한 계산법을 숙달하면 신경망을 효율적으로 구현할 수 있다. "
      ]
    },
    {
      "cell_type": "markdown",
      "metadata": {
        "id": "ueKiHURnMsqk",
        "colab_type": "text"
      },
      "source": [
        "### 3.3.1. 다차원 배열\n",
        "\n",
        "지금까지 보아온 1차원 배열은 다음과 같다"
      ]
    },
    {
      "cell_type": "code",
      "metadata": {
        "id": "HIyLWo6BMyp8",
        "colab_type": "code",
        "colab": {
          "base_uri": "https://localhost:8080/",
          "height": 34
        },
        "outputId": "a90ca06d-9378-43f3-f042-91ce3a52a1d7"
      },
      "source": [
        "import numpy as np\n",
        "A = np.array([1,2,3,4])\n",
        "print(A)"
      ],
      "execution_count": 1,
      "outputs": [
        {
          "output_type": "stream",
          "text": [
            "[1 2 3 4]\n"
          ],
          "name": "stdout"
        }
      ]
    },
    {
      "cell_type": "code",
      "metadata": {
        "id": "WqeN5eQkM2UD",
        "colab_type": "code",
        "colab": {
          "base_uri": "https://localhost:8080/",
          "height": 34
        },
        "outputId": "0d5ca617-0cea-4981-c088-6898d24b183a"
      },
      "source": [
        "np.ndim(A) #배열의 차원수는 np.ndim()함수로 확인할 수 있다. "
      ],
      "execution_count": 2,
      "outputs": [
        {
          "output_type": "execute_result",
          "data": {
            "text/plain": [
              "1"
            ]
          },
          "metadata": {
            "tags": []
          },
          "execution_count": 2
        }
      ]
    },
    {
      "cell_type": "code",
      "metadata": {
        "id": "uaXEUcZcM3gC",
        "colab_type": "code",
        "colab": {
          "base_uri": "https://localhost:8080/",
          "height": 34
        },
        "outputId": "72239adc-3320-4692-ed4d-59adda13b38e"
      },
      "source": [
        "A.shape #또한 배열의 형상은 인스턴스 변수인 shape로 알 수 있다. "
      ],
      "execution_count": 3,
      "outputs": [
        {
          "output_type": "execute_result",
          "data": {
            "text/plain": [
              "(4,)"
            ]
          },
          "metadata": {
            "tags": []
          },
          "execution_count": 3
        }
      ]
    },
    {
      "cell_type": "code",
      "metadata": {
        "id": "eyklu3BDM4Ky",
        "colab_type": "code",
        "colab": {
          "base_uri": "https://localhost:8080/",
          "height": 34
        },
        "outputId": "7ee04e03-43b4-433c-c095-44eb159fb3e0"
      },
      "source": [
        "A.shape[0] "
      ],
      "execution_count": 4,
      "outputs": [
        {
          "output_type": "execute_result",
          "data": {
            "text/plain": [
              "4"
            ]
          },
          "metadata": {
            "tags": []
          },
          "execution_count": 4
        }
      ]
    },
    {
      "cell_type": "markdown",
      "metadata": {
        "id": "T1qO4r0IM5SE",
        "colab_type": "text"
      },
      "source": [
        "2차원 배열을 반환해보자"
      ]
    },
    {
      "cell_type": "code",
      "metadata": {
        "id": "4ewZyuyzNRK2",
        "colab_type": "code",
        "colab": {}
      },
      "source": [
        "B = np.array([[1,2],[3,4],[5,6]])"
      ],
      "execution_count": 0,
      "outputs": []
    },
    {
      "cell_type": "code",
      "metadata": {
        "id": "dQ7YO3AHNVTG",
        "colab_type": "code",
        "colab": {
          "base_uri": "https://localhost:8080/",
          "height": 68
        },
        "outputId": "9ae84aea-e05f-453b-eecf-c75f92e9bddf"
      },
      "source": [
        "print(B)"
      ],
      "execution_count": 7,
      "outputs": [
        {
          "output_type": "stream",
          "text": [
            "[[1 2]\n",
            " [3 4]\n",
            " [5 6]]\n"
          ],
          "name": "stdout"
        }
      ]
    },
    {
      "cell_type": "code",
      "metadata": {
        "id": "4TMYO8x9NZ4H",
        "colab_type": "code",
        "colab": {
          "base_uri": "https://localhost:8080/",
          "height": 34
        },
        "outputId": "49ec664d-41b1-4ea6-991f-a9ccd8c66782"
      },
      "source": [
        "np.ndim(B)"
      ],
      "execution_count": 9,
      "outputs": [
        {
          "output_type": "execute_result",
          "data": {
            "text/plain": [
              "2"
            ]
          },
          "metadata": {
            "tags": []
          },
          "execution_count": 9
        }
      ]
    },
    {
      "cell_type": "code",
      "metadata": {
        "id": "vugABe4HNbSY",
        "colab_type": "code",
        "colab": {
          "base_uri": "https://localhost:8080/",
          "height": 34
        },
        "outputId": "bb0edb3a-d724-48be-90d3-330c6ab8fcbf"
      },
      "source": [
        "B.shape #3x2 배열인 B를 작성했다. "
      ],
      "execution_count": 10,
      "outputs": [
        {
          "output_type": "execute_result",
          "data": {
            "text/plain": [
              "(3, 2)"
            ]
          },
          "metadata": {
            "tags": []
          },
          "execution_count": 10
        }
      ]
    },
    {
      "cell_type": "markdown",
      "metadata": {
        "id": "CJFblurPNebA",
        "colab_type": "text"
      },
      "source": [
        "3x2 배열은 처음 차원에는 원소가 3개, 다음 차원에는 원소가 2개 있다는 의미이다. 이때 처음 차원은 0번째 차원, 다음 차원은 1번째 차원에 대응한다 (파이썬의 인덱스는 0부터 시작한다)\n",
        "\n",
        "2차원 배열은 특히 행렬<sup>matrix</sup>이라고 부른다. "
      ]
    },
    {
      "cell_type": "markdown",
      "metadata": {
        "id": "AoewScJkN0U0",
        "colab_type": "text"
      },
      "source": [
        "### 3.3.2. 행렬의 곱"
      ]
    },
    {
      "cell_type": "markdown",
      "metadata": {
        "id": "-iCosGsTN2K3",
        "colab_type": "text"
      },
      "source": [
        "### 그림 3-11. 행렬의 곱\n",
        "\n",
        "행렬 곱은 왼쪽 행렬의 행(가로)과 오른쪽 행렬의 열(세로)을 원소별로 곱하고 그 값들을 더해서 계산한다. 그 계산 결과가 새로운 다차원 배열의 원소가 된다. \n",
        "\n",
        "예를 들어 A의 1행과 B의 1열을 곱한 값은 결과 행렬의 1행 1번째 원소가 되고, A의 2행과 B의 1열을 곱한 결과는 2행 1번째 원소가 된다. \n",
        "\n",
        "파이썬으로 구현한 행렬의 곱"
      ]
    },
    {
      "cell_type": "code",
      "metadata": {
        "id": "5wKQz2KZORdC",
        "colab_type": "code",
        "colab": {
          "base_uri": "https://localhost:8080/",
          "height": 34
        },
        "outputId": "88167963-360e-4cbb-dd5b-ffff1ad4df84"
      },
      "source": [
        "A = np.array([[1,2],[3,4]])\n",
        "A.shape"
      ],
      "execution_count": 11,
      "outputs": [
        {
          "output_type": "execute_result",
          "data": {
            "text/plain": [
              "(2, 2)"
            ]
          },
          "metadata": {
            "tags": []
          },
          "execution_count": 11
        }
      ]
    },
    {
      "cell_type": "code",
      "metadata": {
        "id": "ug9FeCvuOVYM",
        "colab_type": "code",
        "colab": {}
      },
      "source": [
        "B = np.array([[5,6],[7,8]])"
      ],
      "execution_count": 0,
      "outputs": []
    },
    {
      "cell_type": "code",
      "metadata": {
        "id": "aoLnD-svOYgX",
        "colab_type": "code",
        "colab": {
          "base_uri": "https://localhost:8080/",
          "height": 34
        },
        "outputId": "a846b9e3-3a1e-4fe0-caf1-cc23c487142f"
      },
      "source": [
        "B.shape"
      ],
      "execution_count": 13,
      "outputs": [
        {
          "output_type": "execute_result",
          "data": {
            "text/plain": [
              "(2, 2)"
            ]
          },
          "metadata": {
            "tags": []
          },
          "execution_count": 13
        }
      ]
    },
    {
      "cell_type": "code",
      "metadata": {
        "id": "oxARniWSOZO3",
        "colab_type": "code",
        "colab": {
          "base_uri": "https://localhost:8080/",
          "height": 51
        },
        "outputId": "7ed399af-90b2-421e-f8e7-013d9a25dfb6"
      },
      "source": [
        "np.dot(A,B) #A와 B는 2x2행렬이며, 두 행렬의 곱은 넘파이 함수 np.doct()으로 계산한다"
      ],
      "execution_count": 14,
      "outputs": [
        {
          "output_type": "execute_result",
          "data": {
            "text/plain": [
              "array([[19, 22],\n",
              "       [43, 50]])"
            ]
          },
          "metadata": {
            "tags": []
          },
          "execution_count": 14
        }
      ]
    },
    {
      "cell_type": "markdown",
      "metadata": {
        "id": "d-hpUoX3Oal2",
        "colab_type": "text"
      },
      "source": [
        "np.dot()은 입력이 1차원 배열이면 벡터를, 2차원 배열이면 행렬 곱을 계산한다. \n",
        "\n",
        "np.dot(A,B)와 np.dot(B,A)는 다른 값이 될 수 있다. +와 * 등의 일반적인  연산과 달리 행렬의 곱에서는 피연산자의 순서가 다르면 결과도 다르다. "
      ]
    },
    {
      "cell_type": "markdown",
      "metadata": {
        "id": "iOlGzap0Ss3I",
        "colab_type": "text"
      },
      "source": [
        "행렬 A의 1번째 차원의 원소 수 (열 수)와 행렬  B의 0번째 차원의 원소 수(행 수)가 같아야한다. \n",
        "2x3의 A와 2x2행렬 C를 곱하면 오류가 난다. "
      ]
    },
    {
      "cell_type": "markdown",
      "metadata": {
        "id": "gX7XPlw0Qnsb",
        "colab_type": "text"
      },
      "source": [
        "2x3 행렬과 3x2 행렬의 곱을 파이썬으로 구현해보아라 "
      ]
    },
    {
      "cell_type": "markdown",
      "metadata": {
        "id": "eEub3UTrQ8ZS",
        "colab_type": "text"
      },
      "source": [
        "## 실습 \n",
        "\n",
        "실습 자료 결과 값을 자신의 깃헙 레포지토리에 저장하고 링크를 제출하시오 \n",
        "\n",
        "레포지토리 이름 : hfpsych_workshop\n",
        "폴더명:DeepNLP\n",
        "파일명: w4_neuralnet_part2_본인이름.ipynb\n",
        "\n",
        "제출방법: 깃헙 레포지토리 > 폴더 안에 커밋되어있는 ipynb노트북 링크를 슬랙 sum19_study에 공유하여 제출 \n"
      ]
    },
    {
      "cell_type": "markdown",
      "metadata": {
        "id": "n_OqQJ8iTmB4",
        "colab_type": "text"
      },
      "source": [
        "1번"
      ]
    },
    {
      "cell_type": "code",
      "metadata": {
        "id": "mubZOeHcQw4d",
        "colab_type": "code",
        "colab": {}
      },
      "source": [
        "#A 정의 "
      ],
      "execution_count": 0,
      "outputs": []
    },
    {
      "cell_type": "code",
      "metadata": {
        "id": "ApQeTWtdQ1hR",
        "colab_type": "code",
        "colab": {
          "base_uri": "https://localhost:8080/",
          "height": 51
        },
        "outputId": "4294356f-7abb-40a9-8479-fb0006943dcf"
      },
      "source": [
        "A"
      ],
      "execution_count": 17,
      "outputs": [
        {
          "output_type": "execute_result",
          "data": {
            "text/plain": [
              "array([[1, 2, 3],\n",
              "       [4, 5, 6]])"
            ]
          },
          "metadata": {
            "tags": []
          },
          "execution_count": 17
        }
      ]
    },
    {
      "cell_type": "code",
      "metadata": {
        "id": "PByBi9G4Q4XE",
        "colab_type": "code",
        "colab": {}
      },
      "source": [
        "#B 정의"
      ],
      "execution_count": 0,
      "outputs": []
    },
    {
      "cell_type": "code",
      "metadata": {
        "id": "Mr95LR4wRtjB",
        "colab_type": "code",
        "colab": {
          "base_uri": "https://localhost:8080/",
          "height": 68
        },
        "outputId": "443a9a7c-ea96-4b37-c579-e8aa620d2061"
      },
      "source": [
        "B"
      ],
      "execution_count": 20,
      "outputs": [
        {
          "output_type": "execute_result",
          "data": {
            "text/plain": [
              "array([[1, 2],\n",
              "       [3, 4],\n",
              "       [5, 6]])"
            ]
          },
          "metadata": {
            "tags": []
          },
          "execution_count": 20
        }
      ]
    },
    {
      "cell_type": "code",
      "metadata": {
        "id": "xwT2pexSRuVi",
        "colab_type": "code",
        "colab": {
          "base_uri": "https://localhost:8080/",
          "height": 51
        },
        "outputId": "f2492ac3-3b9f-484c-e45c-8a9b17cf5585"
      },
      "source": [
        "#A와 B의 행렬 곱 \n"
      ],
      "execution_count": 21,
      "outputs": [
        {
          "output_type": "execute_result",
          "data": {
            "text/plain": [
              "array([[22, 28],\n",
              "       [49, 64]])"
            ]
          },
          "metadata": {
            "tags": []
          },
          "execution_count": 21
        }
      ]
    },
    {
      "cell_type": "markdown",
      "metadata": {
        "id": "vXhIrtS_TkEV",
        "colab_type": "text"
      },
      "source": [
        "2번. 아래 연산이 오류가 나지 않게 B를 고쳐보시오"
      ]
    },
    {
      "cell_type": "code",
      "metadata": {
        "id": "1X68Hh00R6_o",
        "colab_type": "code",
        "colab": {}
      },
      "source": [
        "A = np.array([[1,2],[3,4],[5,6]])\n",
        "A.shape"
      ],
      "execution_count": 0,
      "outputs": []
    },
    {
      "cell_type": "code",
      "metadata": {
        "id": "Z-GMm4nUTSZ1",
        "colab_type": "code",
        "colab": {}
      },
      "source": [
        "B = np.array([[7,8]]]) #고쳐보기 \n",
        "B.shape"
      ],
      "execution_count": 0,
      "outputs": []
    },
    {
      "cell_type": "code",
      "metadata": {
        "id": "EYJvB19uTZFN",
        "colab_type": "code",
        "colab": {}
      },
      "source": [
        "np.dot(A,B) #출력에 오류가 없어야함"
      ],
      "execution_count": 0,
      "outputs": []
    },
    {
      "cell_type": "markdown",
      "metadata": {
        "id": "xscrzAIDTg4n",
        "colab_type": "text"
      },
      "source": [
        "### 3.3.3. 신경망에서의 행렬 곱\n",
        "\n",
        "#### 그림 3.14 행렬의 곱으로 신경망의 계산을 수행한다"
      ]
    },
    {
      "cell_type": "code",
      "metadata": {
        "id": "kGfH_nFwT6Jn",
        "colab_type": "code",
        "colab": {
          "base_uri": "https://localhost:8080/",
          "height": 34
        },
        "outputId": "8f34ef69-6d5c-4beb-cd04-1703d23cb415"
      },
      "source": [
        "X = np.array([1,2])\n",
        "X.shape"
      ],
      "execution_count": 36,
      "outputs": [
        {
          "output_type": "execute_result",
          "data": {
            "text/plain": [
              "(2,)"
            ]
          },
          "metadata": {
            "tags": []
          },
          "execution_count": 36
        }
      ]
    },
    {
      "cell_type": "code",
      "metadata": {
        "id": "t2gDBWuET9ey",
        "colab_type": "code",
        "colab": {
          "base_uri": "https://localhost:8080/",
          "height": 51
        },
        "outputId": "dcd185e5-dff2-4b85-b288-59607b9228db"
      },
      "source": [
        "W = np.array([[1,3,5], [2,4,6]])\n",
        "print(W)"
      ],
      "execution_count": 37,
      "outputs": [
        {
          "output_type": "stream",
          "text": [
            "[[1 3 5]\n",
            " [2 4 6]]\n"
          ],
          "name": "stdout"
        }
      ]
    },
    {
      "cell_type": "code",
      "metadata": {
        "id": "yEBYWc34UBMi",
        "colab_type": "code",
        "colab": {
          "base_uri": "https://localhost:8080/",
          "height": 34
        },
        "outputId": "8a1c3d83-07e9-4fc4-c62b-e8db32291e9a"
      },
      "source": [
        "W.shape"
      ],
      "execution_count": 38,
      "outputs": [
        {
          "output_type": "execute_result",
          "data": {
            "text/plain": [
              "(2, 3)"
            ]
          },
          "metadata": {
            "tags": []
          },
          "execution_count": 38
        }
      ]
    },
    {
      "cell_type": "code",
      "metadata": {
        "id": "Oywi9knfUEvi",
        "colab_type": "code",
        "colab": {}
      },
      "source": [
        "Y = np.dot(X,W)"
      ],
      "execution_count": 0,
      "outputs": []
    },
    {
      "cell_type": "code",
      "metadata": {
        "id": "iCkYQ7VsUGy7",
        "colab_type": "code",
        "colab": {
          "base_uri": "https://localhost:8080/",
          "height": 34
        },
        "outputId": "00474e67-de80-4514-bdb7-810e7fd2ddff"
      },
      "source": [
        "print(Y)"
      ],
      "execution_count": 40,
      "outputs": [
        {
          "output_type": "stream",
          "text": [
            "[ 5 11 17]\n"
          ],
          "name": "stdout"
        }
      ]
    },
    {
      "cell_type": "markdown",
      "metadata": {
        "id": "Tekic56eUJJN",
        "colab_type": "text"
      },
      "source": [
        "### 3.4. 3층 신경망 구현하기"
      ]
    },
    {
      "cell_type": "markdown",
      "metadata": {
        "id": "IMSzgtB7Ujwq",
        "colab_type": "text"
      },
      "source": [
        "#### 그림 3-15. 3층 신경망"
      ]
    },
    {
      "cell_type": "markdown",
      "metadata": {
        "id": "1-gaWeusaD8v",
        "colab_type": "text"
      },
      "source": [
        "#### 3.4.1. 표기법 설명\n",
        "\n",
        "_w_<sub>12</sub><sup>(1)</sup>, _a_<sup>(1)</sup><sub>1</sub>\n",
        "\n",
        "#### 그림 3-16 중요한 표기\n"
      ]
    },
    {
      "cell_type": "markdown",
      "metadata": {
        "id": "1B9rn7dEalTJ",
        "colab_type": "text"
      },
      "source": [
        "### 3.4.2. 각 층의 신호 전달 구현하기"
      ]
    },
    {
      "cell_type": "code",
      "metadata": {
        "id": "-JtCO82mf2Q4",
        "colab_type": "code",
        "colab": {}
      },
      "source": [
        "X = np.array([1.0, 0.5])\n",
        "W1 = np.array([[0.1,0.3,0.5],[0.2,0.4,0.6]])\n",
        "B1 = np.array([0.1,0.2,0.3])"
      ],
      "execution_count": 0,
      "outputs": []
    },
    {
      "cell_type": "code",
      "metadata": {
        "id": "32F1aqNtgE8E",
        "colab_type": "code",
        "colab": {}
      },
      "source": [
        "#X 크기 확인 (힌트: .shape )\n"
      ],
      "execution_count": 0,
      "outputs": []
    },
    {
      "cell_type": "code",
      "metadata": {
        "id": "lxsM8Ts3gOTp",
        "colab_type": "code",
        "colab": {}
      },
      "source": [
        "#W1 크기 확인"
      ],
      "execution_count": 0,
      "outputs": []
    },
    {
      "cell_type": "code",
      "metadata": {
        "id": "seF674XSgRmL",
        "colab_type": "code",
        "colab": {}
      },
      "source": [
        "#B1 크기 확인"
      ],
      "execution_count": 0,
      "outputs": []
    },
    {
      "cell_type": "code",
      "metadata": {
        "id": "lH_sq5s0gTkU",
        "colab_type": "code",
        "colab": {}
      },
      "source": [
        "A1 =  # X와 W1의 행렬 연산 + B1 (bias)"
      ],
      "execution_count": 0,
      "outputs": []
    },
    {
      "cell_type": "markdown",
      "metadata": {
        "id": "9tF1WBDvggDX",
        "colab_type": "text"
      },
      "source": [
        "#### 그림 3-18. 입력층에서 1층으로 신호 전달\n",
        "\n",
        "그림 3-18과 같이 은닉층에서의 가중치 합(가중 신호와 편향의 총합)을 a로 표기하고 활성화 함수 h( )로 변환된 신호를 z로 표기한다. 여기에서는 활성화 함수로 시그모이드 함수를 사용하기로 해보자.\n"
      ]
    },
    {
      "cell_type": "code",
      "metadata": {
        "id": "36b-NpzzhgmC",
        "colab_type": "code",
        "colab": {}
      },
      "source": [
        "#시그모이드 함수\n",
        "def sigmoid(x):\n",
        "    return 1 / (1 + np.exp(-x)) "
      ],
      "execution_count": 0,
      "outputs": []
    },
    {
      "cell_type": "code",
      "metadata": {
        "id": "DpgrQju2hHk0",
        "colab_type": "code",
        "colab": {
          "base_uri": "https://localhost:8080/",
          "height": 34
        },
        "outputId": "1eb6e750-6fd1-4216-9f01-7eeaa61f23c4"
      },
      "source": [
        "Z1 = sigmoid(A1)\n",
        "\n",
        "print(A1) #앞에서 A1 출력값을 얻어내야 계산이 가능하다"
      ],
      "execution_count": 50,
      "outputs": [
        {
          "output_type": "stream",
          "text": [
            "[0.3 0.7 1.1]\n"
          ],
          "name": "stdout"
        }
      ]
    },
    {
      "cell_type": "code",
      "metadata": {
        "id": "bW1Pjz_XhNnB",
        "colab_type": "code",
        "colab": {
          "base_uri": "https://localhost:8080/",
          "height": 34
        },
        "outputId": "1025e871-32d4-425a-a0d6-172431f46e82"
      },
      "source": [
        "print(Z1)"
      ],
      "execution_count": 51,
      "outputs": [
        {
          "output_type": "stream",
          "text": [
            "[0.57444252 0.66818777 0.75026011]\n"
          ],
          "name": "stdout"
        }
      ]
    },
    {
      "cell_type": "markdown",
      "metadata": {
        "id": "gAmgNIhrhjWc",
        "colab_type": "text"
      },
      "source": [
        "#### 그림 3-19. 1층에서 2층으로의 신호 전달\n"
      ]
    },
    {
      "cell_type": "code",
      "metadata": {
        "id": "NueOQDrzhzOh",
        "colab_type": "code",
        "colab": {}
      },
      "source": [
        "W2 = np.array([[0.1, 0.4], [0.2, 0.5], [0.3, 0.6]])\n",
        "B2 = np.array([[0.1, 0.2]])"
      ],
      "execution_count": 0,
      "outputs": []
    },
    {
      "cell_type": "code",
      "metadata": {
        "id": "3zl-Qvv0h6BJ",
        "colab_type": "code",
        "colab": {
          "base_uri": "https://localhost:8080/",
          "height": 34
        },
        "outputId": "3c33e2c8-0886-435f-c041-d124d2796e7c"
      },
      "source": [
        "print(Z1.shape)"
      ],
      "execution_count": 54,
      "outputs": [
        {
          "output_type": "stream",
          "text": [
            "(3,)\n"
          ],
          "name": "stdout"
        }
      ]
    },
    {
      "cell_type": "code",
      "metadata": {
        "id": "8QvJeR-Zima1",
        "colab_type": "code",
        "colab": {
          "base_uri": "https://localhost:8080/",
          "height": 34
        },
        "outputId": "49bf4eca-9c6a-4b9b-8bf2-1d20162bad82"
      },
      "source": [
        "print(W2.shape)"
      ],
      "execution_count": 55,
      "outputs": [
        {
          "output_type": "stream",
          "text": [
            "(3, 2)\n"
          ],
          "name": "stdout"
        }
      ]
    },
    {
      "cell_type": "code",
      "metadata": {
        "id": "WGZcr1mginmu",
        "colab_type": "code",
        "colab": {
          "base_uri": "https://localhost:8080/",
          "height": 34
        },
        "outputId": "e8b737dd-f886-4acf-b6ec-e115d2e2f23f"
      },
      "source": [
        "print(B2.shape)"
      ],
      "execution_count": 56,
      "outputs": [
        {
          "output_type": "stream",
          "text": [
            "(1, 2)\n"
          ],
          "name": "stdout"
        }
      ]
    },
    {
      "cell_type": "code",
      "metadata": {
        "id": "gVVJ9knEior2",
        "colab_type": "code",
        "colab": {}
      },
      "source": [
        "A2 = np.dot(Z1, W2) + B2 #1층에서 2층으로의 신호 총합(전달)"
      ],
      "execution_count": 0,
      "outputs": []
    },
    {
      "cell_type": "code",
      "metadata": {
        "id": "iMhD3mMpivqs",
        "colab_type": "code",
        "colab": {}
      },
      "source": [
        "Z2 = sigmoid(A2)"
      ],
      "execution_count": 0,
      "outputs": []
    },
    {
      "cell_type": "code",
      "metadata": {
        "id": "SVf4PHYNi3sn",
        "colab_type": "code",
        "colab": {
          "base_uri": "https://localhost:8080/",
          "height": 34
        },
        "outputId": "f39e3420-de38-4ccb-8f32-70fb7175e6c7"
      },
      "source": [
        "Z2"
      ],
      "execution_count": 59,
      "outputs": [
        {
          "output_type": "execute_result",
          "data": {
            "text/plain": [
              "array([[0.62624937, 0.7710107 ]])"
            ]
          },
          "metadata": {
            "tags": []
          },
          "execution_count": 59
        }
      ]
    },
    {
      "cell_type": "markdown",
      "metadata": {
        "id": "oCYCg9Ati5jP",
        "colab_type": "text"
      },
      "source": [
        "#### 그림 3-20. 2층에서 출력층으로의 신호 전달\n",
        "\n",
        "출력층의 활성화 함수를 &sigma; ()로 표시하여 은닉층의 활성화 함수 _h_()와는 다름을 명시하였음"
      ]
    },
    {
      "cell_type": "code",
      "metadata": {
        "id": "f8QdZ3fFjEZd",
        "colab_type": "code",
        "colab": {}
      },
      "source": [
        "def identity_function(x): #항등 함수 = 입력을 그대로 출력하는 함수\n",
        "  return x"
      ],
      "execution_count": 0,
      "outputs": []
    },
    {
      "cell_type": "code",
      "metadata": {
        "id": "OR0W4FDVjHYD",
        "colab_type": "code",
        "colab": {}
      },
      "source": [
        "W3 = np.array([[0.1, 0.3], [0.2, 0.4]])\n",
        "B3 = np.array([[0.1, 0.2]])"
      ],
      "execution_count": 0,
      "outputs": []
    },
    {
      "cell_type": "code",
      "metadata": {
        "id": "REamBg8cjObC",
        "colab_type": "code",
        "colab": {}
      },
      "source": [
        "A3 = np.dot(Z2, W3) + B3"
      ],
      "execution_count": 0,
      "outputs": []
    },
    {
      "cell_type": "code",
      "metadata": {
        "id": "xbFF97FUjUb1",
        "colab_type": "code",
        "colab": {}
      },
      "source": [
        "Y = identity_function(A3) #or Y = A3"
      ],
      "execution_count": 0,
      "outputs": []
    },
    {
      "cell_type": "code",
      "metadata": {
        "id": "e_UV6fXojXUD",
        "colab_type": "code",
        "colab": {
          "base_uri": "https://localhost:8080/",
          "height": 34
        },
        "outputId": "6015b737-9ef4-4821-8907-89d1518be54c"
      },
      "source": [
        "Y"
      ],
      "execution_count": 67,
      "outputs": [
        {
          "output_type": "execute_result",
          "data": {
            "text/plain": [
              "array([[0.31682708, 0.69627909]])"
            ]
          },
          "metadata": {
            "tags": []
          },
          "execution_count": 67
        }
      ]
    },
    {
      "cell_type": "markdown",
      "metadata": {
        "id": "-tfOA4R_jdAU",
        "colab_type": "text"
      },
      "source": [
        "### 3.4.3. 구현 정리\n",
        " \n",
        " 순방향 신경망 구현!"
      ]
    },
    {
      "cell_type": "code",
      "metadata": {
        "id": "J5eCPD4Sj7JR",
        "colab_type": "code",
        "colab": {
          "base_uri": "https://localhost:8080/",
          "height": 34
        },
        "outputId": "6ccc905d-82a5-4683-d8f8-954c648745c5"
      },
      "source": [
        "def init_network(): #가중치와 편향을 초기화 + 딕셔너리 변수인 network에 저장\n",
        "  network = {} #딕셔너리 변수인 network에 각 층에 필요한 매개변수(가중치와 편향)을 저장\n",
        "  network['W1'] = np.array([[0.1,0.3,0.5],[0.2,0.4,0.6]])\n",
        "  network['b1'] = np.array([[0.1,0.2,0.3]])\n",
        "  network['W2'] = np.array([[0.1,0.4],[0.2,0.5],[0.3,0.6]])\n",
        "  network['b2'] = np.array([[0.1,0.2]])\n",
        "  network['W3'] = np.array([[0.1,0.3],[0.2,0.4]])\n",
        "  network['b3'] = np.array([[0.1,0.2]])\n",
        "  \n",
        "  return network\n",
        "\n",
        "def forward(network, x): #입력 신호를 출력으로 변환하는 처리 과정 \n",
        "  W1, W2, W3 = network['W1'], network['W2'], network['W3']\n",
        "  b1, b2, b3 = network['b1'], network['b2'], network['b3']\n",
        "  \n",
        "  a1 = np.dot(x, W1) + b1\n",
        "  z1 = sigmoid(a1)\n",
        "  a2 = np.dot(z1, W2) + b2\n",
        "  z2 = sigmoid(a2)\n",
        "  a3 = np.dot(z2, W3) + b3\n",
        "  y = identity_function(a3)\n",
        "  \n",
        "  return y\n",
        "\n",
        "network = init_network()\n",
        "x = np.array([1.0, 0.5])\n",
        "y = forward(network, x)\n",
        "print(y) #[0.31682708, 0.69627909]\n"
      ],
      "execution_count": 78,
      "outputs": [
        {
          "output_type": "stream",
          "text": [
            "[[0.31682708 0.69627909]]\n"
          ],
          "name": "stdout"
        }
      ]
    },
    {
      "cell_type": "code",
      "metadata": {
        "id": "ywkKy5BTnD8I",
        "colab_type": "code",
        "colab": {}
      },
      "source": [
        ""
      ],
      "execution_count": 0,
      "outputs": []
    }
  ]
}